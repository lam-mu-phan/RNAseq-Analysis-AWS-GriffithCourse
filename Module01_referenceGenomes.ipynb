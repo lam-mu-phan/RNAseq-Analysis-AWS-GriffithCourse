{
 "cells": [
  {
   "cell_type": "markdown",
   "id": "de820898-0063-4bfb-bb1d-969de7dabbb8",
   "metadata": {},
   "source": [
    "# Obtain a reference genome\n",
    "either from Ensembl, iGenomes, NCBI or UCSC.\n",
    "\n",
    "In this course, we will use the human GRCh38 version of the genome from Ensembl. Furthermore, we are actually going to perform the analysis using only a single chromosome (chr22) and the ERCC spike-in to make it run faster. Griffith lab have prepared this simplified reference for you. It contains chr22 (and ERCC transcript) fasta files in both a single combined file and individual files. "
   ]
  },
  {
   "cell_type": "code",
   "execution_count": 1,
   "id": "a0365841-6c9a-4b51-bd83-59d29c4f0d93",
   "metadata": {},
   "outputs": [
    {
     "name": "stdout",
     "output_type": "stream",
     "text": [
      "/home/ubuntu\n"
     ]
    }
   ],
   "source": [
    "# Our current directory when you first SSH into EC2 instance:\n",
    "pwd"
   ]
  },
  {
   "cell_type": "code",
   "execution_count": 2,
   "id": "5ab78163-4615-464f-a138-e129ea9461af",
   "metadata": {},
   "outputs": [
    {
     "name": "stdout",
     "output_type": "stream",
     "text": [
      "Miniconda3-latest-Linux-x86_64.sh  \u001b[0m\u001b[01;34mR\u001b[0m           \u001b[01;36mworkspace\u001b[0m\n",
      "Module00_install_bedtools.ipynb    \u001b[01;34mbin\u001b[0m\n",
      "Module01_referenceGenomes.ipynb    \u001b[01;34mminiconda3\u001b[0m\n"
     ]
    }
   ],
   "source": [
    "ls"
   ]
  },
  {
   "cell_type": "markdown",
   "id": "85888c51-c5df-4c56-ae9d-29a8c92d9b72",
   "metadata": {},
   "source": [
    "Earlier we installed tools to $RNA_HOME/student_tools directory\n",
    "Today, we'll install reference genome to $RNA_REFS_DIR directory\n",
    "Knowing that:\n",
    "RNA_HOME=/home/ubuntu/workspace/rnaseq\n",
    "RNA_REFS_DIR=/home/ubuntu/workspace/rnaseq/refs"
   ]
  },
  {
   "cell_type": "markdown",
   "id": "497e9cdf-0981-4375-8d43-8be166d82e73",
   "metadata": {},
   "source": [
    "## Make required directory to install refernce genome file into\n",
    "If you just finished intalling tools and immediately move on to this step, you can go back to $RNA_HOME by:"
   ]
  },
  {
   "cell_type": "code",
   "execution_count": 3,
   "id": "6ca6f90c-2f5d-41f5-a619-43fb05e22f14",
   "metadata": {},
   "outputs": [
    {
     "name": "stdout",
     "output_type": "stream",
     "text": [
      "\u001b[0m\u001b[01;34mstudent_tools\u001b[0m\n"
     ]
    }
   ],
   "source": [
    "cd $RNA_HOME\n",
    "# Note that $RNA_HOME=/home/ubuntu/workspace/rnaseq\n",
    "# Curently, $RNA_HOME directory only contains student_tools folder/directory because we created this directory to install our tools earlier\n",
    "ls"
   ]
  },
  {
   "cell_type": "code",
   "execution_count": 4,
   "id": "d4166aea-5366-4fe0-a09b-43280d7b14f2",
   "metadata": {},
   "outputs": [
    {
     "name": "stdout",
     "output_type": "stream",
     "text": [
      "/home/ubuntu/workspace/rnaseq/refs\n"
     ]
    }
   ],
   "source": [
    "# We already create RNA_REFS_DIR=/home/ubuntu/workspace/rnaseq/refs in our .bashrc file earlier, just to confirm that the path is set correctly:\n",
    "echo $RNA_REFS_DIR"
   ]
  },
  {
   "cell_type": "code",
   "execution_count": 5,
   "id": "199f6637-8331-4af2-a718-f9b467f46724",
   "metadata": {},
   "outputs": [],
   "source": [
    "# Now that we have the path set correctly, let's actually create this directory:\n",
    "mkdir -p $RNA_REFS_DIR"
   ]
  },
  {
   "cell_type": "code",
   "execution_count": 6,
   "id": "1f938dd4-f501-4b65-b7f1-4e43952ff86a",
   "metadata": {},
   "outputs": [
    {
     "name": "stdout",
     "output_type": "stream",
     "text": [
      "\u001b[0m\u001b[01;34mrefs\u001b[0m  \u001b[01;34mstudent_tools\u001b[0m\n"
     ]
    }
   ],
   "source": [
    "# You're currently in $RNA_HOME=/home/ubuntu/workspace/rnaseq, if we ls the content of it again, we'll now see \"refs\" directory\n",
    "ls"
   ]
  },
  {
   "cell_type": "markdown",
   "id": "6d3c63a1-7e91-425f-87b7-5c3a6550f51b",
   "metadata": {},
   "source": [
    "## Install the reference genome fasta file"
   ]
  },
  {
   "cell_type": "code",
   "execution_count": 7,
   "id": "7d453867-b77f-4ce4-8dbe-c216b287ae3f",
   "metadata": {},
   "outputs": [
    {
     "name": "stdout",
     "output_type": "stream",
     "text": [
      "--2025-04-26 15:39:24--  http://genomedata.org/rnaseq-tutorial/fasta/GRCh38/chr22_with_ERCC92.fa\n",
      "Resolving genomedata.org (genomedata.org)... 54.71.55.4\n",
      "Connecting to genomedata.org (genomedata.org)|54.71.55.4|:80... connected.\n",
      "HTTP request sent, awaiting response... 301 Moved Permanently\n",
      "Location: https://genomedata.org/rnaseq-tutorial/fasta/GRCh38/chr22_with_ERCC92.fa [following]\n",
      "--2025-04-26 15:39:25--  https://genomedata.org/rnaseq-tutorial/fasta/GRCh38/chr22_with_ERCC92.fa\n",
      "Connecting to genomedata.org (genomedata.org)|54.71.55.4|:443... connected.\n",
      "HTTP request sent, awaiting response... 200 OK\n",
      "Length: 51751056 (49M)\n",
      "Saving to: ‘chr22_with_ERCC92.fa’\n",
      "\n",
      "chr22_with_ERCC92.f 100%[===================>]  49.35M  32.2MB/s    in 1.5s    \n",
      "\n",
      "2025-04-26 15:39:26 (32.2 MB/s) - ‘chr22_with_ERCC92.fa’ saved [51751056/51751056]\n",
      "\n",
      "chr22_with_ERCC92.fa\n"
     ]
    }
   ],
   "source": [
    "# Let's go into $RNA_REFS_DIR and install the ref genome fasta file there \n",
    "cd $RNA_REFS_DIR # or cd refs\n",
    "wget http://genomedata.org/rnaseq-tutorial/fasta/GRCh38/chr22_with_ERCC92.fa\n",
    "ls # you should see the chr22_with_ERCC92.fa file  "
   ]
  },
  {
   "cell_type": "markdown",
   "id": "3e5a2db3-9681-4e76-baa8-c404da198135",
   "metadata": {},
   "source": [
    "## Examine reference genome files"
   ]
  },
  {
   "cell_type": "code",
   "execution_count": 13,
   "id": "11301045-b6a3-4888-9f1b-3bcdfb916f44",
   "metadata": {
    "scrolled": true
   },
   "outputs": [
    {
     "name": "stdout",
     "output_type": "stream",
     "text": [
      "\u001b[01;31m\u001b[K>\u001b[m\u001b[K22 dna_sm:chromosome chromosome:GRCh38:22:1:50818468:1 REF\n",
      "\u001b[01;31m\u001b[K>\u001b[m\u001b[KERCC-00002\n",
      "\u001b[01;31m\u001b[K>\u001b[m\u001b[KERCC-00003\n",
      "\u001b[01;31m\u001b[K>\u001b[m\u001b[KERCC-00004\n",
      "\u001b[01;31m\u001b[K>\u001b[m\u001b[KERCC-00009\n",
      "\u001b[01;31m\u001b[K>\u001b[m\u001b[KERCC-00012\n",
      "\u001b[01;31m\u001b[K>\u001b[m\u001b[KERCC-00013\n",
      "\u001b[01;31m\u001b[K>\u001b[m\u001b[KERCC-00014\n",
      "\u001b[01;31m\u001b[K>\u001b[m\u001b[KERCC-00016\n",
      "\u001b[01;31m\u001b[K>\u001b[m\u001b[KERCC-00017\n",
      "\u001b[01;31m\u001b[K>\u001b[m\u001b[KERCC-00019\n",
      "\u001b[01;31m\u001b[K>\u001b[m\u001b[KERCC-00022\n",
      "\u001b[01;31m\u001b[K>\u001b[m\u001b[KERCC-00024\n",
      "\u001b[01;31m\u001b[K>\u001b[m\u001b[KERCC-00025\n",
      "\u001b[01;31m\u001b[K>\u001b[m\u001b[KERCC-00028\n",
      "\u001b[01;31m\u001b[K>\u001b[m\u001b[KERCC-00031\n",
      "\u001b[01;31m\u001b[K>\u001b[m\u001b[KERCC-00033\n",
      "\u001b[01;31m\u001b[K>\u001b[m\u001b[KERCC-00034\n",
      "\u001b[01;31m\u001b[K>\u001b[m\u001b[KERCC-00035\n",
      "\u001b[01;31m\u001b[K>\u001b[m\u001b[KERCC-00039\n",
      "\u001b[01;31m\u001b[K>\u001b[m\u001b[KERCC-00040\n",
      "\u001b[01;31m\u001b[K>\u001b[m\u001b[KERCC-00041\n",
      "\u001b[01;31m\u001b[K>\u001b[m\u001b[KERCC-00042\n",
      "\u001b[01;31m\u001b[K>\u001b[m\u001b[KERCC-00043\n",
      "\u001b[01;31m\u001b[K>\u001b[m\u001b[KERCC-00044\n",
      "\u001b[01;31m\u001b[K>\u001b[m\u001b[KERCC-00046\n",
      "\u001b[01;31m\u001b[K>\u001b[m\u001b[KERCC-00048\n",
      "\u001b[01;31m\u001b[K>\u001b[m\u001b[KERCC-00051\n",
      "\u001b[01;31m\u001b[K>\u001b[m\u001b[KERCC-00053\n",
      "\u001b[01;31m\u001b[K>\u001b[m\u001b[KERCC-00054\n",
      "\u001b[01;31m\u001b[K>\u001b[m\u001b[KERCC-00057\n",
      "\u001b[01;31m\u001b[K>\u001b[m\u001b[KERCC-00058\n",
      "\u001b[01;31m\u001b[K>\u001b[m\u001b[KERCC-00059\n",
      "\u001b[01;31m\u001b[K>\u001b[m\u001b[KERCC-00060\n",
      "\u001b[01;31m\u001b[K>\u001b[m\u001b[KERCC-00061\n",
      "\u001b[01;31m\u001b[K>\u001b[m\u001b[KERCC-00062\n",
      "\u001b[01;31m\u001b[K>\u001b[m\u001b[KERCC-00067\n",
      "\u001b[01;31m\u001b[K>\u001b[m\u001b[KERCC-00069\n",
      "\u001b[01;31m\u001b[K>\u001b[m\u001b[KERCC-00071\n",
      "\u001b[01;31m\u001b[K>\u001b[m\u001b[KERCC-00073\n",
      "\u001b[01;31m\u001b[K>\u001b[m\u001b[KERCC-00074\n",
      "\u001b[01;31m\u001b[K>\u001b[m\u001b[KERCC-00075\n",
      "\u001b[01;31m\u001b[K>\u001b[m\u001b[KERCC-00076\n",
      "\u001b[01;31m\u001b[K>\u001b[m\u001b[KERCC-00077\n",
      "\u001b[01;31m\u001b[K>\u001b[m\u001b[KERCC-00078\n",
      "\u001b[01;31m\u001b[K>\u001b[m\u001b[KERCC-00079\n",
      "\u001b[01;31m\u001b[K>\u001b[m\u001b[KERCC-00081\n",
      "\u001b[01;31m\u001b[K>\u001b[m\u001b[KERCC-00083\n",
      "\u001b[01;31m\u001b[K>\u001b[m\u001b[KERCC-00084\n",
      "\u001b[01;31m\u001b[K>\u001b[m\u001b[KERCC-00085\n",
      "\u001b[01;31m\u001b[K>\u001b[m\u001b[KERCC-00086\n",
      "\u001b[01;31m\u001b[K>\u001b[m\u001b[KERCC-00092\n",
      "\u001b[01;31m\u001b[K>\u001b[m\u001b[KERCC-00095\n",
      "\u001b[01;31m\u001b[K>\u001b[m\u001b[KERCC-00096\n",
      "\u001b[01;31m\u001b[K>\u001b[m\u001b[KERCC-00097\n",
      "\u001b[01;31m\u001b[K>\u001b[m\u001b[KERCC-00098\n",
      "\u001b[01;31m\u001b[K>\u001b[m\u001b[KERCC-00099\n",
      "\u001b[01;31m\u001b[K>\u001b[m\u001b[KERCC-00104\n",
      "\u001b[01;31m\u001b[K>\u001b[m\u001b[KERCC-00108\n",
      "\u001b[01;31m\u001b[K>\u001b[m\u001b[KERCC-00109\n",
      "\u001b[01;31m\u001b[K>\u001b[m\u001b[KERCC-00111\n",
      "\u001b[01;31m\u001b[K>\u001b[m\u001b[KERCC-00112\n",
      "\u001b[01;31m\u001b[K>\u001b[m\u001b[KERCC-00113\n",
      "\u001b[01;31m\u001b[K>\u001b[m\u001b[KERCC-00116\n",
      "\u001b[01;31m\u001b[K>\u001b[m\u001b[KERCC-00117\n",
      "\u001b[01;31m\u001b[K>\u001b[m\u001b[KERCC-00120\n",
      "\u001b[01;31m\u001b[K>\u001b[m\u001b[KERCC-00123\n",
      "\u001b[01;31m\u001b[K>\u001b[m\u001b[KERCC-00126\n",
      "\u001b[01;31m\u001b[K>\u001b[m\u001b[KERCC-00130\n",
      "\u001b[01;31m\u001b[K>\u001b[m\u001b[KERCC-00131\n",
      "\u001b[01;31m\u001b[K>\u001b[m\u001b[KERCC-00134\n",
      "\u001b[01;31m\u001b[K>\u001b[m\u001b[KERCC-00136\n",
      "\u001b[01;31m\u001b[K>\u001b[m\u001b[KERCC-00137\n",
      "\u001b[01;31m\u001b[K>\u001b[m\u001b[KERCC-00138\n",
      "\u001b[01;31m\u001b[K>\u001b[m\u001b[KERCC-00142\n",
      "\u001b[01;31m\u001b[K>\u001b[m\u001b[KERCC-00143\n",
      "\u001b[01;31m\u001b[K>\u001b[m\u001b[KERCC-00144\n",
      "\u001b[01;31m\u001b[K>\u001b[m\u001b[KERCC-00145\n",
      "\u001b[01;31m\u001b[K>\u001b[m\u001b[KERCC-00147\n",
      "\u001b[01;31m\u001b[K>\u001b[m\u001b[KERCC-00148\n",
      "\u001b[01;31m\u001b[K>\u001b[m\u001b[KERCC-00150\n",
      "\u001b[01;31m\u001b[K>\u001b[m\u001b[KERCC-00154\n",
      "\u001b[01;31m\u001b[K>\u001b[m\u001b[KERCC-00156\n",
      "\u001b[01;31m\u001b[K>\u001b[m\u001b[KERCC-00157\n",
      "\u001b[01;31m\u001b[K>\u001b[m\u001b[KERCC-00158\n",
      "\u001b[01;31m\u001b[K>\u001b[m\u001b[KERCC-00160\n",
      "\u001b[01;31m\u001b[K>\u001b[m\u001b[KERCC-00162\n",
      "\u001b[01;31m\u001b[K>\u001b[m\u001b[KERCC-00163\n",
      "\u001b[01;31m\u001b[K>\u001b[m\u001b[KERCC-00164\n",
      "\u001b[01;31m\u001b[K>\u001b[m\u001b[KERCC-00165\n",
      "\u001b[01;31m\u001b[K>\u001b[m\u001b[KERCC-00168\n",
      "\u001b[01;31m\u001b[K>\u001b[m\u001b[KERCC-00170\n",
      "\u001b[01;31m\u001b[K>\u001b[m\u001b[KERCC-00171\n"
     ]
    }
   ],
   "source": [
    "# View a list of all sequences (all header lines) in our reference genome fasta file:\n",
    "grep \">\" chr22_with_ERCC92.fa\n",
    "# You'll see chr22 header line, and ERCC header lines indicating this files contains chr22 and ERCC transcripts"
   ]
  },
  {
   "cell_type": "code",
   "execution_count": 9,
   "id": "203bd594-1401-4c98-892d-b182064a2fea",
   "metadata": {
    "collapsed": true,
    "jupyter": {
     "outputs_hidden": true
    }
   },
   "outputs": [
    {
     "name": "stdout",
     "output_type": "stream",
     "text": [
      ">22 dna_sm:chromosome chromosome:GRCh38:22:1:50818468:1 REF\n",
      "NNNNNNNNNNNNNNNNNNNNNNNNNNNNNNNNNNNNNNNNNNNNNNNNNNNNNNNNNNNN\n",
      "NNNNNNNNNNNNNNNNNNNNNNNNNNNNNNNNNNNNNNNNNNNNNNNNNNNNNNNNNNNN\n",
      "NNNNNNNNNNNNNNNNNNNNNNNNNNNNNNNNNNNNNNNNNNNNNNNNNNNNNNNNNNNN\n",
      "NNNNNNNNNNNNNNNNNNNNNNNNNNNNNNNNNNNNNNNNNNNNNNNNNNNNNNNNNNNN\n",
      "NNNNNNNNNNNNNNNNNNNNNNNNNNNNNNNNNNNNNNNNNNNNNNNNNNNNNNNNNNNN\n",
      "NNNNNNNNNNNNNNNNNNNNNNNNNNNNNNNNNNNNNNNNNNNNNNNNNNNNNNNNNNNN\n",
      "NNNNNNNNNNNNNNNNNNNNNNNNNNNNNNNNNNNNNNNNNNNNNNNNNNNNNNNNNNNN\n",
      "NNNNNNNNNNNNNNNNNNNNNNNNNNNNNNNNNNNNNNNNNNNNNNNNNNNNNNNNNNNN\n",
      "NNNNNNNNNNNNNNNNNNNNNNNNNNNNNNNNNNNNNNNNNNNNNNNNNNNNNNNNNNNN\n"
     ]
    }
   ],
   "source": [
    "# View the first 10 lines of this file\n",
    "head chr22_with_ERCC92.fa"
   ]
  },
  {
   "cell_type": "markdown",
   "id": "6c777234-f97a-4c77-ab7b-0b9eded8ac93",
   "metadata": {},
   "source": [
    "### Estimated length of chr22 + ERCC in base pairs\n",
    "The reference human chromosome 22 is around 50.8 million base pairs long (GRCh38), so most of this file is likely chr22, and only a small part (less than 1 Mbp) is from the ERCC transcript sequence.\n",
    "\n",
    "By default, wc shows three counts for a file or input:\n",
    "* Number of lines (\"wc -l\" will output only number of lines)\n",
    "* Number of words\n",
    "* Number of bytes or How long is this chromosome (in bases and Mbp). ~51,751,056 bases or ~51.75 Mbp (assuming 1 character A/T/C/G/N = 1 base)\n",
    "* the name of the file"
   ]
  },
  {
   "cell_type": "code",
   "execution_count": 10,
   "id": "e5700f1d-3aee-4033-90fd-6526c7f0cf20",
   "metadata": {},
   "outputs": [
    {
     "name": "stdout",
     "output_type": "stream",
     "text": [
      "  848761   848764 51751056 chr22_with_ERCC92.fa\n"
     ]
    }
   ],
   "source": [
    "wc chr22_with_ERCC92.fa"
   ]
  },
  {
   "cell_type": "code",
   "execution_count": 11,
   "id": "f6b943d6-4569-4148-bf62-f99140f6fd76",
   "metadata": {},
   "outputs": [
    {
     "name": "stdout",
     "output_type": "stream",
     "text": [
      "ggaggctgaggcaggagaatcgcttgaacatgggaggtggaagttgcagtgagccgaaac\n",
      "tgcgccattgcactatagcctgggcaacaagagtgaaagtctgtcttgaaaaaaaaaaaT\n",
      "CAGATGTTCTATGTAAAAATGCTATCTAtgattgaagtataaaactttacctccctttat\n",
      "gttcctttgccctccccactatttattattgtcttgattatatcttctatatgcattgag\n",
      "aggtgttataacttttgtatcaatcaccaaatttaatttagaaaatataagaggagaaga\n",
      "aaagtctattacatttactcatatttttgcttactgtgttctttcttccttcttgatgtt\n",
      "ccagaatttcttttattgcttcttttctgcttagaaaactttatctttttctttcatctt\n",
      "tcttttttcctcctcctcctcctcctcctttttttttttttttttttttttttttttaat\n",
      "aaagagacagggtctcactctatcacccagactggagttcagtgatgcaatcatagctca\n",
      "ttgcaaccttgaactcctgggctcaagtgatcctcccacctcagcctcctgagtagctgg\n"
     ]
    }
   ],
   "source": [
    "# Because chr22_with_ERCC92.fa contains 848764 lines, to view 10 lines from approximately the middle of this file:\n",
    "head -n 425000 chr22_with_ERCC92.fa | tail # first print the first 425000 of chr22_with_ERCC92.fa, then view only the last 10 lines of these lines"
   ]
  },
  {
   "cell_type": "code",
   "execution_count": 12,
   "id": "dfbf7a0f-b592-45cb-ad7b-6239f4c642ed",
   "metadata": {
    "scrolled": true
   },
   "outputs": [
    {
     "name": "stdout",
     "output_type": "stream",
     "text": [
      "A 4455938\n",
      "C 4406493\n",
      "G 4411768\n",
      "N 10710000\n",
      "T 4445994\n",
      "Y 1\n",
      "a 5950524\n",
      "c 4772185\n",
      "g 4853055\n",
      "n 948691\n",
      "t 5946575\n"
     ]
    }
   ],
   "source": [
    "# What is the count of each base in the entire reference genome file (skipping the header lines for each sequence)?\n",
    "grep -v \">\" chr22_with_ERCC92.fa | perl -ne 'chomp $_; $bases{$_}++ for split //; if (eof){print \"$_ $bases{$_}\\n\" for sort keys %bases}'\n",
    "# grep -v \">\" remove lines containing \">\". These are FASTA header lines\n",
    "# | is piping command, it takes the output of preceeding command as input for the next command\n",
    "# perl -n loops over each input line without automatically printing anything\n",
    "# split // splits the line into individual characters (i.e., bases)\n",
    "# For each character, increment its count in the %bases hash\n",
    "# eof is true only at the end of the last line of input\n",
    "## When we reach the end of the file:\n",
    "### Loop over the sorted keys (base letters like A, C, G, T, N, etc.)\n",
    "### Print each base and its count, one per line."
   ]
  },
  {
   "cell_type": "markdown",
   "id": "8798879d-72bc-4e28-9b19-3944cc46ba55",
   "metadata": {},
   "source": [
    "### How many occurences of the EcoRI restriction site are present in the chromosome 22 sequence? \n",
    "The EcoRI restriction enzyme recognition sequence is 5’-GAATTC-‘3. Since this is a palendrome, the reverse complement is the same and we only have to search for one sequence in our string. After accounting for end of line breaks and case sensitivity we find 3,935 occurences of this sequence."
   ]
  },
  {
   "cell_type": "code",
   "execution_count": 14,
   "id": "ac9b60c6-5ecc-4341-9513-5481e4a1964c",
   "metadata": {},
   "outputs": [],
   "source": [
    "# To extract only the chr22 sequence into a new FASTA file called chr22_only.fa from chr22_with_ERCC92.fa\n",
    "awk '/^>/ {keep = /^>22 /} keep' chr22_with_ERCC92.fa > chr22_only.fa"
   ]
  },
  {
   "cell_type": "markdown",
   "id": "912c7032-5b0d-4f92-8842-ffb21aa94e94",
   "metadata": {},
   "source": [
    "* wk: processes the FASTA file line by line.\n",
    "* /^>/: matches header lines.\n",
    "* keep = /^>22 /: sets a flag (keep) to true only for the chr22 header line (>22 ...).\n",
    "* keep: if the flag is true, the line (header or sequence) is printed.\n",
    "\n",
    "It will stop copying when it reaches the next > line (e.g., >ERCC-00002)"
   ]
  },
  {
   "cell_type": "code",
   "execution_count": 16,
   "id": "0d08f1d5-c125-49b9-98a4-0c8e0f127bc3",
   "metadata": {},
   "outputs": [
    {
     "name": "stdout",
     "output_type": "stream",
     "text": [
      "\u001b[01;31m\u001b[K>\u001b[m\u001b[K22 dna_sm:chromosome chromosome:GRCh38:22:1:50818468:1 REF\n",
      ">22 dna_sm:chromosome chromosome:GRCh38:22:1:50818468:1 REF\n",
      "NNNNNNNNNNNNNNNNNNNNNNNNNNNNNNNNNNNNNNNNNNNNNNNNNNNNNNNNNNNN\n",
      "NNNNNNNNNNNNNNNNNNNNNNNNNNNNNNNNNNNNNNNNNNNNNNNNNNNNNNNNNNNN\n",
      "nnnnnnnnnnnnnnnnnnnnnnnnnnnnnnnnnnnnnnnnnnnnnnnnnnnnnnnnnnnn\n",
      "nnnnnnnnnnnnnnnnnnnnnnnnnnnn\n"
     ]
    }
   ],
   "source": [
    "# Check if I extracted chr22 correctly\n",
    "grep \">\" chr22_only.fa\n",
    "head -n 3 chr22_only.fa\n",
    "tail -n 2 chr22_only.fa"
   ]
  },
  {
   "cell_type": "markdown",
   "id": "6a2d13e9-773f-4564-9d73-7019173c2da9",
   "metadata": {},
   "source": [
    "#### My method (ChatGPT's method)\n",
    "* Remove FASTA headers (start with >)\n",
    "* Joins all sequence lines into one continuous string\n",
    "* Uppercases all letters\n",
    "* Counts all non-overlapping GAATTC matches"
   ]
  },
  {
   "cell_type": "code",
   "execution_count": 17,
   "id": "db14918b-df68-4050-9da8-35e549c58b53",
   "metadata": {},
   "outputs": [
    {
     "name": "stdout",
     "output_type": "stream",
     "text": [
      "9544\n",
      "\n",
      "real\t0m0.924s\n",
      "user\t0m1.029s\n",
      "sys\t0m0.184s\n"
     ]
    }
   ],
   "source": [
    "# Count occurence of EcoRI restriction site, and time how long it takes to generate output:\n",
    "time (grep -v \"^>\" chr22_only.fa | tr -d '\\n' | tr 'a-z' 'A-Z' | grep -o 'GAATTC' | wc -l)\n",
    "\n",
    "# tr -d '\\n' removes line breaks, so sequences are treated as one long string\n",
    "# tr 'a-z' 'A-Z' converts lowercase to uppercase (makes search case-insensitive)\n",
    "# grep -o \"GAATTC\" finds and prints each match of the EcoRI site\n",
    "# wc -l counts how many times it was matched (i.e., how many times GAATTC appears)"
   ]
  },
  {
   "cell_type": "markdown",
   "id": "2f5987ea-eac0-4e89-9daa-792861ca311f",
   "metadata": {},
   "source": [
    "#### Instructor's method\n",
    "* grep -v \">\": removes headers ✅\n",
    "* First Perl: uppercases each line, removes trailing newline, but prints each line separately\n",
    "* Second Perl: processes each line one at a time, counts how many GAATTC matches exist per line\n",
    "\n",
    "❗ Problem:\n",
    "If a GAATTC recognition site is split across two lines, like this:\n",
    "\n",
    "...GAATT\n",
    "\n",
    "C...\n",
    "\n",
    "the instructor's method will not count it, because it's analyzing each line independently, not a continuous string."
   ]
  },
  {
   "cell_type": "code",
   "execution_count": 18,
   "id": "74b1faa0-dbb9-4e94-ae90-4657f620cc07",
   "metadata": {},
   "outputs": [
    {
     "name": "stdout",
     "output_type": "stream",
     "text": [
      "\n",
      "EcoRI site (GAATTC) count = 3935\n",
      "\n",
      "\n",
      "real\t0m0.274s\n",
      "user\t0m0.269s\n",
      "sys\t0m0.147s\n"
     ]
    }
   ],
   "source": [
    "# Instructor's method to count occurrence of EcoRI restriction site\n",
    "time (grep -v \">\" chr22_only.fa | \n",
    "perl -ne 'chomp $_; $s = uc($_); print $_;' | \n",
    "perl -ne '$c += $_ =~ s/GAATTC/XXXXXX/g; if (eof){print \"\\nEcoRI site (GAATTC) count = $c\\n\\n\";}')"
   ]
  },
  {
   "cell_type": "markdown",
   "id": "8b2c2e21-4f94-4646-910e-1ed3314946f3",
   "metadata": {},
   "source": [
    "#### Conlusion: I think ChatGPT's code is more accurate. Instructor's method undercounts the occurrence of EcoRI restriction site"
   ]
  }
 ],
 "metadata": {
  "kernelspec": {
   "display_name": "Bash",
   "language": "bash",
   "name": "bash"
  },
  "language_info": {
   "codemirror_mode": "shell",
   "file_extension": ".sh",
   "mimetype": "text/x-sh",
   "name": "bash"
  }
 },
 "nbformat": 4,
 "nbformat_minor": 5
}

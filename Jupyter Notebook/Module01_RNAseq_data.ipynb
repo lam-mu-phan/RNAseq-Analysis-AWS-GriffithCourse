{
 "cells": [
  {
   "cell_type": "markdown",
   "id": "5918caa4-42f4-4621-ab96-700ac39d3c5d",
   "metadata": {},
   "source": [
    "# Obtain RNA-seq test data.\n",
    "The test data consists of two commercially available RNA samples: Universal Human Reference (UHR) and Human Brain Reference (HBR). We have 3 complete experimental replicates for each sample. In addition, a spike-in control was used. Specifically we added an aliquot of the ERCC ExFold RNA Spike-In Control Mixes to each sample. The spike-in consists of 92 transcripts that are present in known concentrations across a wide abundance range. \n",
    "\n",
    "So to summarize we have:\n",
    "1. UHR + ERCC Spike-In Mix1, Replicate 1\n",
    "2. UHR + ERCC Spike-In Mix1, Replicate 2\n",
    "3. UHR + ERCC Spike-In Mix1, Replicate 3\n",
    "4. HBR + ERCC Spike-In Mix2, Replicate 1\n",
    "5. HBR + ERCC Spike-In Mix2, Replicate 2\n",
    "6. HBR + ERCC Spike-In Mix2, Replicate 3\n",
    "\n",
    "Each data set has a corresponding pair of FASTQ files (read 1 and read 2 of paired end reads)."
   ]
  },
  {
   "cell_type": "code",
   "execution_count": 1,
   "id": "c43f8053-9a7c-4ef4-9db6-67661428af8f",
   "metadata": {},
   "outputs": [
    {
     "name": "stdout",
     "output_type": "stream",
     "text": [
      "/home/ubuntu/workspace/rnaseq/data\n",
      "--2025-04-27 00:04:53--  http://genomedata.org/rnaseq-tutorial/HBR_UHR_ERCC_ds_5pc.tar\n",
      "Resolving genomedata.org (genomedata.org)... 54.71.55.4\n",
      "Connecting to genomedata.org (genomedata.org)|54.71.55.4|:80... connected.\n",
      "HTTP request sent, awaiting response... 301 Moved Permanently\n",
      "Location: https://genomedata.org/rnaseq-tutorial/HBR_UHR_ERCC_ds_5pc.tar [following]\n",
      "--2025-04-27 00:04:53--  https://genomedata.org/rnaseq-tutorial/HBR_UHR_ERCC_ds_5pc.tar\n",
      "Connecting to genomedata.org (genomedata.org)|54.71.55.4|:443... connected.\n",
      "HTTP request sent, awaiting response... 200 OK\n",
      "Length: 116602880 (111M) [application/x-tar]\n",
      "Saving to: ‘HBR_UHR_ERCC_ds_5pc.tar’\n",
      "\n",
      "HBR_UHR_ERCC_ds_5pc 100%[===================>] 111.20M  38.1MB/s    in 2.9s    \n",
      "\n",
      "2025-04-27 00:04:57 (38.1 MB/s) - ‘HBR_UHR_ERCC_ds_5pc.tar’ saved [116602880/116602880]\n",
      "\n"
     ]
    }
   ],
   "source": [
    "echo $RNA_DATA_DIR # RNA_DATA_DIR=/home/ubuntu/workspace/rnaseq/data\n",
    "mkdir -p $RNA_DATA_DIR\n",
    "cd $RNA_DATA_DIR\n",
    "# Obtain data from course directory:\n",
    "wget http://genomedata.org/rnaseq-tutorial/HBR_UHR_ERCC_ds_5pc.tar "
   ]
  },
  {
   "cell_type": "code",
   "execution_count": 2,
   "id": "a0d2e666-d247-4123-9374-fdef8ac7f8bc",
   "metadata": {},
   "outputs": [
    {
     "name": "stdout",
     "output_type": "stream",
     "text": [
      "HBR_Rep1_ERCC-Mix2_Build37-ErccTranscripts-chr22.read1.fastq.gz\n",
      "HBR_Rep1_ERCC-Mix2_Build37-ErccTranscripts-chr22.read2.fastq.gz\n",
      "HBR_Rep2_ERCC-Mix2_Build37-ErccTranscripts-chr22.read1.fastq.gz\n",
      "HBR_Rep2_ERCC-Mix2_Build37-ErccTranscripts-chr22.read2.fastq.gz\n",
      "HBR_Rep3_ERCC-Mix2_Build37-ErccTranscripts-chr22.read1.fastq.gz\n",
      "HBR_Rep3_ERCC-Mix2_Build37-ErccTranscripts-chr22.read2.fastq.gz\n",
      "UHR_Rep1_ERCC-Mix1_Build37-ErccTranscripts-chr22.read1.fastq.gz\n",
      "UHR_Rep1_ERCC-Mix1_Build37-ErccTranscripts-chr22.read2.fastq.gz\n",
      "UHR_Rep2_ERCC-Mix1_Build37-ErccTranscripts-chr22.read1.fastq.gz\n",
      "UHR_Rep2_ERCC-Mix1_Build37-ErccTranscripts-chr22.read2.fastq.gz\n",
      "UHR_Rep3_ERCC-Mix1_Build37-ErccTranscripts-chr22.read1.fastq.gz\n",
      "UHR_Rep3_ERCC-Mix1_Build37-ErccTranscripts-chr22.read2.fastq.gz\n",
      "\u001b[0m\u001b[01;31mHBR_Rep1_ERCC-Mix2_Build37-ErccTranscripts-chr22.read1.fastq.gz\u001b[0m\n",
      "\u001b[01;31mHBR_Rep1_ERCC-Mix2_Build37-ErccTranscripts-chr22.read2.fastq.gz\u001b[0m\n",
      "\u001b[01;31mHBR_Rep2_ERCC-Mix2_Build37-ErccTranscripts-chr22.read1.fastq.gz\u001b[0m\n",
      "\u001b[01;31mHBR_Rep2_ERCC-Mix2_Build37-ErccTranscripts-chr22.read2.fastq.gz\u001b[0m\n",
      "\u001b[01;31mHBR_Rep3_ERCC-Mix2_Build37-ErccTranscripts-chr22.read1.fastq.gz\u001b[0m\n",
      "\u001b[01;31mHBR_Rep3_ERCC-Mix2_Build37-ErccTranscripts-chr22.read2.fastq.gz\u001b[0m\n",
      "\u001b[01;31mHBR_UHR_ERCC_ds_5pc.tar\u001b[0m\n",
      "\u001b[01;31mUHR_Rep1_ERCC-Mix1_Build37-ErccTranscripts-chr22.read1.fastq.gz\u001b[0m\n",
      "\u001b[01;31mUHR_Rep1_ERCC-Mix1_Build37-ErccTranscripts-chr22.read2.fastq.gz\u001b[0m\n",
      "\u001b[01;31mUHR_Rep2_ERCC-Mix1_Build37-ErccTranscripts-chr22.read1.fastq.gz\u001b[0m\n",
      "\u001b[01;31mUHR_Rep2_ERCC-Mix1_Build37-ErccTranscripts-chr22.read2.fastq.gz\u001b[0m\n",
      "\u001b[01;31mUHR_Rep3_ERCC-Mix1_Build37-ErccTranscripts-chr22.read1.fastq.gz\u001b[0m\n",
      "\u001b[01;31mUHR_Rep3_ERCC-Mix1_Build37-ErccTranscripts-chr22.read2.fastq.gz\u001b[0m\n"
     ]
    }
   ],
   "source": [
    "tar -xvf HBR_UHR_ERCC_ds_5pc.tar # unpack tar file into 12 seperate fastq.gz file in black\n",
    "ls # we'll see 12 fastq files in red and HBR_UHR_ERCC_ds_5pc.tar files"
   ]
  },
  {
   "cell_type": "markdown",
   "id": "5e04c5c5-d403-47d0-8d7c-445c877b0bcc",
   "metadata": {},
   "source": [
    "The reads are paired-end 101-mers generated on an Illumina HiSeq instrument. The test data has been pre-filtered for reads that appear to map to chromosome 22. "
   ]
  },
  {
   "cell_type": "code",
   "execution_count": 3,
   "id": "21240894-3057-4147-9d2f-4541c3c3bbf0",
   "metadata": {},
   "outputs": [
    {
     "name": "stdout",
     "output_type": "stream",
     "text": [
      "@HWI-ST718_146963544:6:1213:8996:10047/1\n",
      "CTTTTTTATTTTTGTCTGACTGGGTTGATTCAAAGGTCTGGTCTTTGAGCTCTTAAATTAGTTCTTCTATTTGGCCTAGTCTGTTGCTAAGGCTGCCAAC\n",
      "+\n",
      "CCCFFFFFHHHHGJHIIJHIHIIIFHIJJJJIJJGIBBFGEGGHIIHGGIJJIIHGGHIIIFGCGHHIIHIHHEEE?DFEFFFEEDCEEDDDDDDDBCDD\n",
      "@HWI-ST718_146963544:5:2303:11793:37095/1\n",
      "ATGAATTATAGGGCTGTATTTTAATTTTGCATTTTAAATTCCTGCAGTTTTCTTCCATCACTTTTCACCATGCATTGTATACTTGGAATTGCTTTTTGTG\n",
      "+\n",
      "@@??BDDFFF<FHEGFFGGIEBGHIIIIIBEHIIGIH<FHEFHHCHABF@DFHGGGII<DHBFGGGGBEGGIBHG@DHGIIIH@DE>CCHF:;>@BC>@@\n"
     ]
    }
   ],
   "source": [
    "# View the  first two read records of a fastq.gz file, each read record spans 4 lines, so 8 lines in total\n",
    "zcat UHR_Rep1_ERCC-Mix1_Build37-ErccTranscripts-chr22.read1.fastq.gz | head -n 8"
   ]
  },
  {
   "cell_type": "markdown",
   "id": "42d8ebf8-2619-402f-abab-621264582311",
   "metadata": {},
   "source": [
    "### How many reads are there in the first library? \n",
    "Decompress file on the fly with ‘zcat’, pipe into ‘grep’, search for the read name prefix and pipe into ‘wc’ to do a word count (‘-l’ gives lines)"
   ]
  },
  {
   "cell_type": "code",
   "execution_count": 4,
   "id": "87ecba77-1e89-4150-8247-db99ce63822b",
   "metadata": {},
   "outputs": [
    {
     "name": "stdout",
     "output_type": "stream",
     "text": [
      "227392\n"
     ]
    }
   ],
   "source": [
    "zcat UHR_Rep1_ERCC-Mix1_Build37-ErccTranscripts-chr22.read1.fastq.gz | grep -P \"^\\@HWI\" | wc -l\n",
    "# grep \"^@HWI\" would also work, -P is for advanced patterns"
   ]
  },
  {
   "cell_type": "markdown",
   "id": "3d035ce4-7265-4c33-907e-0dc79fe6b6b7",
   "metadata": {},
   "source": [
    "# PRACTICAL EXERCISE 3\n",
    "Assignment: Download an additional dataset and unpack it."
   ]
  },
  {
   "cell_type": "code",
   "execution_count": 5,
   "id": "47a3c9e1-3f0c-4440-80bc-ac301d91c007",
   "metadata": {},
   "outputs": [
    {
     "name": "stdout",
     "output_type": "stream",
     "text": [
      "--2025-04-27 00:25:05--  http://genomedata.org/rnaseq-tutorial/practical.tar\n",
      "Resolving genomedata.org (genomedata.org)... 54.71.55.4\n",
      "Connecting to genomedata.org (genomedata.org)|54.71.55.4|:80... connected.\n",
      "HTTP request sent, awaiting response... 301 Moved Permanently\n",
      "Location: https://genomedata.org/rnaseq-tutorial/practical.tar [following]\n",
      "--2025-04-27 00:25:05--  https://genomedata.org/rnaseq-tutorial/practical.tar\n",
      "Connecting to genomedata.org (genomedata.org)|54.71.55.4|:443... connected.\n",
      "HTTP request sent, awaiting response... 200 OK\n",
      "Length: 363653120 (347M) [application/x-tar]\n",
      "Saving to: ‘practical.tar’\n",
      "\n",
      "practical.tar       100%[===================>] 346.81M  49.9MB/s    in 7.8s    \n",
      "\n",
      "2025-04-27 00:25:14 (44.5 MB/s) - ‘practical.tar’ saved [363653120/363653120]\n",
      "\n",
      "hcc1395_normal_rep1_r1.fastq.gz\n",
      "hcc1395_normal_rep1_r2.fastq.gz\n",
      "hcc1395_normal_rep2_r1.fastq.gz\n",
      "hcc1395_normal_rep2_r2.fastq.gz\n",
      "hcc1395_normal_rep3_r1.fastq.gz\n",
      "hcc1395_normal_rep3_r2.fastq.gz\n",
      "hcc1395_tumor_rep1_r1.fastq.gz\n",
      "hcc1395_tumor_rep1_r2.fastq.gz\n",
      "hcc1395_tumor_rep2_r1.fastq.gz\n",
      "hcc1395_tumor_rep2_r2.fastq.gz\n",
      "hcc1395_tumor_rep3_r1.fastq.gz\n",
      "hcc1395_tumor_rep3_r2.fastq.gz\n"
     ]
    }
   ],
   "source": [
    "cd $RNA_HOME\n",
    "mkdir -p practice/data\n",
    "cd $RNA_HOME/practice/data\n",
    "wget http://genomedata.org/rnaseq-tutorial/practical.tar\n",
    "tar -xvf practical.tar"
   ]
  },
  {
   "cell_type": "markdown",
   "id": "c2c60be7-2d5a-483d-a7fe-1fe698bfd99b",
   "metadata": {},
   "source": [
    "### In the first read of the hcc1395, normal, replicate 1, read 1 file, what was the physical location of the read on the flow cell (i.e. lane, tile, x, y)?"
   ]
  },
  {
   "cell_type": "code",
   "execution_count": 6,
   "id": "71dddd75-702b-4717-bbbc-29d8bbead36a",
   "metadata": {},
   "outputs": [
    {
     "name": "stdout",
     "output_type": "stream",
     "text": [
      "@K00193:38:H3MYFBBXX:4:1101:10003:44458/1\n"
     ]
    }
   ],
   "source": [
    "zcat hcc1395_normal_rep1_r1.fastq.gz | head -n 1"
   ]
  },
  {
   "cell_type": "markdown",
   "id": "e50df360-db4a-4422-bd7a-055d78afcea6",
   "metadata": {},
   "source": [
    "Lane = 4, tile = 1101, x = 10003, y = 44458."
   ]
  },
  {
   "cell_type": "markdown",
   "id": "b3d972ca-2d24-4466-a8a3-e059ae77320c",
   "metadata": {},
   "source": [
    "### In the first read of this same file, how many ‘T’ bases are there?"
   ]
  },
  {
   "cell_type": "code",
   "execution_count": 7,
   "id": "5ffaa0dd-8df6-4acf-ac3c-230ac378d651",
   "metadata": {},
   "outputs": [
    {
     "name": "stdout",
     "output_type": "stream",
     "text": [
      "32\n"
     ]
    }
   ],
   "source": [
    "zcat hcc1395_normal_rep1_r1.fastq.gz | head -n 2 | tail -n 1 | grep -o T | wc -l\n",
    "# grep -o (only) extracti specific substrings, eg \"T\", from larger lines "
   ]
  }
 ],
 "metadata": {
  "kernelspec": {
   "display_name": "Bash",
   "language": "bash",
   "name": "bash"
  },
  "language_info": {
   "codemirror_mode": "shell",
   "file_extension": ".sh",
   "mimetype": "text/x-sh",
   "name": "bash"
  }
 },
 "nbformat": 4,
 "nbformat_minor": 5
}

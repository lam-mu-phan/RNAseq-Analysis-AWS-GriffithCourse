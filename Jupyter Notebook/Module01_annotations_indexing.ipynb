{
 "cells": [
  {
   "cell_type": "markdown",
   "id": "481bf53c-ed58-4638-9387-5b598856c62e",
   "metadata": {},
   "source": [
    "# Obtain Known Gene/Transcript Annotations\n",
    "we will use annotations obtained from Ensembl (Homo_sapiens.GRCh38.86.gtf.gz) for chromosome 22 only. For time reasons, these are prepared for you and made available on your AWS instance. \n",
    "\n",
    "Course link: https://rnabio.org/module-01-inputs/0001/03/01/Annotations/"
   ]
  },
  {
   "cell_type": "code",
   "execution_count": 1,
   "id": "c7b3fc2e-c5e0-42d6-a450-f6a4fad11120",
   "metadata": {},
   "outputs": [
    {
     "name": "stdout",
     "output_type": "stream",
     "text": [
      "/home/ubuntu\n",
      "/home/ubuntu/workspace/rnaseq/refs\n",
      "chr22_only.fa  chr22_with_ERCC92.fa\n"
     ]
    }
   ],
   "source": [
    "pwd # check your current directory\n",
    "echo $RNA_REFS_DIR\n",
    "cd $RNA_REFS_DIR # go to this path, note that RNA_REFS_DIR=/home/ubuntu/workspace/rnaseq/refs\n",
    "ls # the current content inside $RNA_REFS_DIR, we'll add the annotation file to this directory"
   ]
  },
  {
   "cell_type": "code",
   "execution_count": 2,
   "id": "eeec82cb-c34d-4ee0-8c69-97c41145f7b0",
   "metadata": {},
   "outputs": [
    {
     "name": "stdout",
     "output_type": "stream",
     "text": [
      "--2025-04-26 18:13:01--  http://genomedata.org/rnaseq-tutorial/annotations/GRCh38/chr22_with_ERCC92.gtf\n",
      "Resolving genomedata.org (genomedata.org)... 54.71.55.4\n",
      "Connecting to genomedata.org (genomedata.org)|54.71.55.4|:80... connected.\n",
      "HTTP request sent, awaiting response... 301 Moved Permanently\n",
      "Location: https://genomedata.org/rnaseq-tutorial/annotations/GRCh38/chr22_with_ERCC92.gtf [following]\n",
      "--2025-04-26 18:13:01--  https://genomedata.org/rnaseq-tutorial/annotations/GRCh38/chr22_with_ERCC92.gtf\n",
      "Connecting to genomedata.org (genomedata.org)|54.71.55.4|:443... connected.\n",
      "HTTP request sent, awaiting response... 200 OK\n",
      "Length: 30712117 (29M)\n",
      "Saving to: ‘chr22_with_ERCC92.gtf’\n",
      "\n",
      "chr22_with_ERCC92.g 100%[===================>]  29.29M  22.6MB/s    in 1.3s    \n",
      "\n",
      "2025-04-26 18:13:02 (22.6 MB/s) - ‘chr22_with_ERCC92.gtf’ saved [30712117/30712117]\n",
      "\n"
     ]
    }
   ],
   "source": [
    "# install the annotation file\n",
    "wget http://genomedata.org/rnaseq-tutorial/annotations/GRCh38/chr22_with_ERCC92.gtf"
   ]
  },
  {
   "cell_type": "markdown",
   "id": "bff7bc5f-b8a3-46e9-b029-9fc9eb7fb7c8",
   "metadata": {},
   "source": [
    "## View GTF file\n",
    "* GTF files has 9 tab-seperated fileds: chrom  source  feature  start  end  score  strand  frame  attribute\n",
    "* More info about FASTA, FASTQ, and GTF format: https://github.com/griffithlab/rnabio.org/blob/master/assets/lectures/cshl/2024/mini/RNASeq_MiniLecture_01_01_FASTA_FASTQ_GTF.pdf"
   ]
  },
  {
   "cell_type": "code",
   "execution_count": 3,
   "id": "3dcfa760-4ab9-459e-9fab-433126b278ba",
   "metadata": {},
   "outputs": [
    {
     "name": "stdout",
     "output_type": "stream",
     "text": [
      "chr22_only.fa  chr22_with_ERCC92.fa  chr22_with_ERCC92.gtf\n",
      "/home/ubuntu/workspace/rnaseq/refs/chr22_with_ERCC92.gtf\n"
     ]
    }
   ],
   "source": [
    "ls # the $RNA_REFS_DIR now also contains chr22_with_ERCC92.gtf \n",
    "\n",
    "# Activate the path to GTF file\n",
    "echo $RNA_REF_GTF # Note that RNA_REF_GTF=/home/ubuntu/workspace/rnaseq/refs/chr22_with_ERCC92.gtf"
   ]
  },
  {
   "cell_type": "markdown",
   "id": "1174170f-34d3-40df-afea-73f138cfe4b9",
   "metadata": {},
   "source": [
    "### Course's method to view GTF file with \"less\"\n",
    "Press q to exit the less display when you are done."
   ]
  },
  {
   "cell_type": "code",
   "execution_count": null,
   "id": "66ab37f6-40b5-464d-b5ee-aea107d549ea",
   "metadata": {},
   "outputs": [],
   "source": [
    "# View GTF file\n",
    "less -p start_codon -S $RNA_REF_GTF \n",
    "\n",
    "# two helpful options with less\n",
    "## -p start_codon jumps directly to the first line that contains start_codon\n",
    "## -S stands for \"chop long lines\" (as in --chop-long-lines). It truncates the line visually, so each line stays on one screen line and you can scroll right/left to see more."
   ]
  },
  {
   "cell_type": "markdown",
   "id": "5d0d0b10-06e9-4994-ac45-472efadd604b",
   "metadata": {},
   "source": [
    "### View GTF file with \"head\"\n",
    "Because I can't execute \"q\" to exit \"less\" command in Jupyter notebook like I can in WSL terminal, I view GTF file alternatively"
   ]
  },
  {
   "cell_type": "code",
   "execution_count": 5,
   "id": "01955e6f-eb3b-4528-94fd-ec3266cceff3",
   "metadata": {},
   "outputs": [
    {
     "name": "stdout",
     "output_type": "stream",
     "text": [
      "chrom\tsource\tfeature\tstart\tend\tscore\tstrand\tframe\tattribute\n",
      "22\tensembl\tgene\t10736171\t10736283\t.\t-\t.\tgene_id \"ENSG00000277248\"; gene_version \"1\"; gene_name \"U2\"; gene_source \"ensembl\"; gene_biotype \"snRNA\";\n"
     ]
    }
   ],
   "source": [
    "echo -e \"chrom\\tsource\\tfeature\\tstart\\tend\\tscore\\tstrand\\tframe\\tattribute\" # print field description\n",
    "head -n 1 chr22_with_ERCC92.gtf"
   ]
  },
  {
   "cell_type": "markdown",
   "id": "84f4bab3-87f2-433e-9910-925e5419b644",
   "metadata": {},
   "source": [
    "## Examine GTF file\n",
    "### How many unique gene in this GTF file?\n",
    "#### Method 1: use the feature (3rd) field"
   ]
  },
  {
   "cell_type": "code",
   "execution_count": 11,
   "id": "e480769d-b591-4689-a9bd-e551dd50878c",
   "metadata": {},
   "outputs": [
    {
     "name": "stdout",
     "output_type": "stream",
     "text": [
      "22\tensembl\tgene\t10736171\t10736283\t.\t-\t.\tgene_id \"ENSG00000277248\"; gene_version \"1\"; gene_name \"U2\"; gene_source \"ensembl\"; gene_biotype \"snRNA\";\n",
      "22\thavana\tgene\t10939388\t10961338\t.\t-\t.\tgene_id \"ENSG00000283047\"; gene_version \"1\"; gene_name \"FRG1FP\"; gene_source \"havana\"; gene_biotype \"unprocessed_pseudogene\"; havana_gene \"OTTHUMG00000191577\"; havana_gene_version \"1\";\n",
      "1318\n"
     ]
    }
   ],
   "source": [
    "# view the first 2 lines that contain the exact word \"gene\"\n",
    "cat chr22_with_ERCC92.gtf | grep -w gene | head -n 2\n",
    "# The -w flag tells grep to match the whole word only, meaning it will only match the exact word \"gene\" and not partial matches (for example, it will not match \"gene_id\" or \"genes\").\n",
    "cat chr22_with_ERCC92.gtf | grep -w gene | wc -l # This command will count only lines with \"gene\" in the feature field"
   ]
  },
  {
   "cell_type": "markdown",
   "id": "c0965288-c865-4f65-9548-bc8e9cb68e42",
   "metadata": {},
   "source": [
    "#### Method 2: use the attribute (9th) field\n",
    "Note: \n",
    "* \"sort | uniq\" is functionally equivalent to \"sort -u\"\n",
    "* print \"$1\\n\" prints the value of the first matched group (the part of the string matched by the part of the regular expression inside the parentheses ()). The \\n adds a newline after printing, making sure each match appears on a new line."
   ]
  },
  {
   "cell_type": "code",
   "execution_count": 18,
   "id": "fc4ed844-0219-4f70-9b8d-d220682d4a7f",
   "metadata": {},
   "outputs": [
    {
     "name": "stdout",
     "output_type": "stream",
     "text": [
      "gene_id \"ENSG00000008735\"\n",
      "gene_id \"ENSG00000015475\"\n",
      "1318\n"
     ]
    }
   ],
   "source": [
    "# gene_id\\s\\\"ENSG\\w+\\\" matches any gene_id starting with \"ENSG\" followed by one or more word characters (\\w+), which includes letters, numbers, and underscores.\n",
    "perl -ne 'if ($_ =~ /(gene_id\\s\\\"ENSG\\w+\\\")/){print \"$1\\n\"}' $RNA_REF_GTF | sort | uniq | head -n 2\n",
    "perl -ne 'if ($_ =~ /(gene_id\\s\\\"ENSG\\w+\\\")/){print \"$1\\n\"}' $RNA_REF_GTF | sort | uniq | wc -l"
   ]
  },
  {
   "cell_type": "code",
   "execution_count": 13,
   "id": "a304d183-46b0-40fa-ba6f-8b8f6ac9ddc4",
   "metadata": {},
   "outputs": [
    {
     "name": "stdout",
     "output_type": "stream",
     "text": [
      "1318\n"
     ]
    }
   ],
   "source": [
    "perl -ne 'if ($_ =~ /(gene_id\\s\\\"ENSG\\w+\\\")/){print \"$1\\n\"}' $RNA_REF_GTF | sort -u | wc -l"
   ]
  },
  {
   "cell_type": "markdown",
   "id": "b8079c68-18ec-42d5-8dfa-251dd54ffb81",
   "metadata": {},
   "source": [
    "#### Be aware that chr22_with_ERCC92.gtf has gene_ids containing either ENSG or ERCC- prefix\n",
    "* ENSG (Ensembl Gene) is used for Ensembl Gene IDs that represent real biological genes in an organism's genome.\n",
    "* ERCC- (External RNA Controls Consortium) is used for spike-in RNA sequences from the ERCC, which are artificial genes designed for calibration and quality control in RNA-seq experiments.\n",
    "\n",
    "To answer \"How many unique gene IDs are in the .gtf file?\", **count only ENSG gene_ids**, which is **1318** gene_ids!"
   ]
  },
  {
   "cell_type": "code",
   "execution_count": 23,
   "id": "ebed22e9-d583-4705-8f22-02c4b9dfbe0f",
   "metadata": {},
   "outputs": [
    {
     "name": "stdout",
     "output_type": "stream",
     "text": [
      "ENSG\n",
      "ERCC-\n"
     ]
    }
   ],
   "source": [
    "# sed 's/[0-9]*$//' removes the numeric part from the gene ID\n",
    "perl -ne 'if ($_ =~ /gene_id\\s\\\"([^\\\"]+)/){print \"$1\\n\"}' $RNA_REF_GTF | sed 's/[0-9]*$//' | sort | uniq"
   ]
  },
  {
   "cell_type": "code",
   "execution_count": 24,
   "id": "8c76b0cd-4787-43e4-99f8-f7b30bedcbe9",
   "metadata": {},
   "outputs": [
    {
     "name": "stdout",
     "output_type": "stream",
     "text": [
      "ERCC-00002\tERCC\texon\t1\t1061\t0.000000\t+\t.\tgene_name \"ERCC-00002\"; gene_id \"ERCC-00002\"; transcript_id \"DQ459430\"; exon_number \"1\";\n"
     ]
    }
   ],
   "source": [
    "# view a line containing ERCC gene_id\n",
    "grep \"ERCC-\" $RNA_REF_GTF | head -n 1"
   ]
  },
  {
   "cell_type": "markdown",
   "id": "ce173cea-8fa8-46d4-948d-376d4b5e0b66",
   "metadata": {},
   "source": [
    "##### To count **all unique gene_ids containing either ENSG or ERCC-**, which is **1410** gene_ids"
   ]
  },
  {
   "cell_type": "code",
   "execution_count": 17,
   "id": "e19e6df6-b526-4fde-bcc3-d31fa29cab2c",
   "metadata": {},
   "outputs": [
    {
     "name": "stdout",
     "output_type": "stream",
     "text": [
      "gene_id \"ENSG00000008735\"\n",
      "gene_id \"ENSG00000015475\"\n",
      "1410\n"
     ]
    }
   ],
   "source": [
    "# gene_id\\s\\\"([^\\\"]+)\\\" matches the gene_id and captures everything between the quotes\n",
    "perl -ne 'if ($_ =~ /(gene_id\\s\\\"[^\\\"]+\\\")/){print \"$1\\n\"}' $RNA_REF_GTF | sort | uniq | head -n 2\n",
    "perl -ne 'if ($_ =~ /(gene_id\\s\\\"[^\\\"]+\\\")/){print \"$1\\n\"}' $RNA_REF_GTF | sort | uniq | wc -l"
   ]
  },
  {
   "cell_type": "code",
   "execution_count": 15,
   "id": "550c39af-4deb-45d0-ae68-00b7752f143b",
   "metadata": {},
   "outputs": [
    {
     "name": "stdout",
     "output_type": "stream",
     "text": [
      "ENSG00000008735\n",
      "ENSG00000015475\n",
      "1410\n"
     ]
    }
   ],
   "source": [
    "# extract column 9 which contain gene_ID | extract gene_ID, ie, ENSG00000277248 | sort and eliminate duplicate | view the first 2 gene_ids\n",
    "cut -f9 chr22_with_ERCC92.gtf | cut -d ' ' -f2 | tr -d '\";' | sort -u | head -n 2\n",
    "# count how many gene_IDs/genes in GTF file\n",
    "cut -f9 chr22_with_ERCC92.gtf | cut -d ' ' -f2 | tr -d '\";' | sort -u | wc -l"
   ]
  },
  {
   "cell_type": "markdown",
   "id": "1e3c256e-a793-4fef-a4c2-8fda4bedd14e",
   "metadata": {},
   "source": [
    "# Create a HISAT2 index\n",
    "Create a HISAT2 index for chr22 and the ERCC spike-in sequences. HISAT2 can incorporate exons and splice sites into the index file for alignment. First create a splice site file, then an exon file. Finally make the aligner FM index.\n",
    "\n",
    "Course link: https://rnabio.org/module-01-inputs/0001/04/01/Indexing/"
   ]
  },
  {
   "cell_type": "markdown",
   "id": "2d234425-cfcb-41dd-b1b7-a3ce1aafdeba",
   "metadata": {},
   "source": [
    "## hisat2-build \n",
    "generates 8 .ht2 files from splicesites.tsv, exons.tsv, and chr22_with_ERCC92.fa. These ht2 files have \"chr22_with_ERCC92\" basename, for example, chr22_with_ERCC92.1.ht2. These files are stored in the current directory ($RNA_REF_INDEX).\n",
    "\n",
    "Note: \n",
    "* RNA_REF_FASTA=/home/ubuntu/workspace/rnaseq/refs/chr22_with_ERCC92.fa\n",
    "* RNA_REF_INDEX=/home/ubuntu/workspace/rnaseq/refs/chr22_with_ERCC92"
   ]
  },
  {
   "cell_type": "markdown",
   "id": "48c4dc1e-80e5-4e5a-80e6-6e2db2617267",
   "metadata": {},
   "source": [
    "* hisat2_extract_splice_sites.py script is part of the HISAT2 package, which is a tool used for aligning RNA-Seq reads to a reference genome. \n",
    "* The script is typically installed with HISAT2 when you install it, and it is used to extract splice site information from a GTF file.\n",
    "* If you have HISAT2 installed, you should be able to run this script from the command line, even when this script is not in the $RNA_REFS_DIR directory.\n",
    "* splicesites.tsv file contains the positions of exon-exon junctions"
   ]
  },
  {
   "cell_type": "code",
   "execution_count": 26,
   "id": "4b0ade60-995a-4f83-a08b-6a857380eb3a",
   "metadata": {},
   "outputs": [],
   "source": [
    "cd $RNA_REFS_DIR\n",
    "hisat2_extract_splice_sites.py $RNA_REF_GTF > $RNA_REFS_DIR/splicesites.tsv"
   ]
  },
  {
   "cell_type": "code",
   "execution_count": 27,
   "id": "5c338310-e9b0-479e-94c5-8744bb3dbc94",
   "metadata": {},
   "outputs": [
    {
     "name": "stdout",
     "output_type": "stream",
     "text": [
      "chr22_only.fa  chr22_with_ERCC92.fa  chr22_with_ERCC92.gtf  splicesites.tsv\n"
     ]
    }
   ],
   "source": [
    "ls"
   ]
  },
  {
   "cell_type": "code",
   "execution_count": 28,
   "id": "68fb8411-73b7-40b3-a9e0-32132b4ee6c7",
   "metadata": {
    "scrolled": true
   },
   "outputs": [
    {
     "name": "stdout",
     "output_type": "stream",
     "text": [
      "Settings:\n",
      "  Output files: \"/home/ubuntu/workspace/rnaseq/refs/chr22_with_ERCC92.*.ht2\"\n",
      "  Line rate: 7 (line is 128 bytes)\n",
      "  Lines per side: 1 (side is 128 bytes)\n",
      "  Offset rate: 4 (one in 16)\n",
      "  FTable chars: 10\n",
      "  Strings: unpacked\n",
      "  Local offset rate: 3 (one in 8)\n",
      "  Local fTable chars: 6\n",
      "  Local sequence length: 57344\n",
      "  Local sequence overlap between two consecutive indexes: 1024\n",
      "  Endianness: little\n",
      "  Actual local endianness: little\n",
      "  Sanity checking: disabled\n",
      "  Assertions: disabled\n",
      "  Random seed: 0\n",
      "  Sizeofs: void*:8, int:4, long:8, size_t:8\n",
      "Input files DNA, FASTA:\n",
      "  /home/ubuntu/workspace/rnaseq/refs/chr22_with_ERCC92.fa\n",
      "Reading reference sizes\n",
      "  Time reading reference sizes: 00:00:01\n",
      "Calculating joined length\n",
      "Writing header\n",
      "Reserving space for joined string\n",
      "Joining reference sequences\n",
      "  Time to join reference sequences: 00:00:00\n",
      "  Time to read SNPs and splice sites: 00:00:00\n",
      "Generation 0 (39250236 -> 39250236 nodes, 0 ranks)\n",
      "COUNTED NEW NODES: 1\n",
      "COUNTED TEMP NODES: 0\n",
      "RESIZED NODES: 0\n",
      "RESIZED NODES: 0\n",
      "MADE NEW NODES: 0\n",
      "Generation 1 (39257595 -> 39257595 nodes, 0 ranks)\n",
      "COUNTED NEW NODES: 0\n",
      "COUNTED TEMP NODES: 0\n",
      "RESIZED NODES: 0\n",
      "RESIZED NODES: 0\n",
      "MADE NEW NODES: 0\n",
      "Generation 2 (39272316 -> 39272316 nodes, 0 ranks)\n",
      "COUNTED NEW NODES: 0\n",
      "COUNTED TEMP NODES: 0\n",
      "RESIZED NODES: 1\n",
      "RESIZED NODES: 0\n",
      "MADE NEW NODES: 0\n",
      "Generation 3 (39301776 -> 39301776 nodes, 0 ranks)\n",
      "BUILT FROM_INDEX: 0\n",
      "COUNTED NEW NODES: 0\n",
      "COUNTED TEMP NODES: 0\n",
      "RESIZED NODES: 0\n",
      "RESIZED NODES: 0\n",
      "MADE NEW NODES: 0\n",
      "RESIZE NODES: 0\n",
      "COUNT NUMBER IN EACH BIN: 0\n",
      "FINISHED FIRST ROUND: 0\n",
      "28 10434179\n",
      "101 9929775\n",
      "66 9905310\n",
      "171 9091513\n",
      "FINISHED RECURSIVE SORTS: 1\n",
      "SORT NODES: 1\n",
      "MERGE, UPDATE RANK: 0\n",
      "Generation 4 (39360777 -> 39315196 nodes, 29466727 ranks)\n",
      "ALLOCATE FROM_TABLE: 1\n",
      "COUNT NUMBER IN EACH BIN: 0\n",
      "FINISHED FIRST ROUND: 0\n",
      "75 9844210\n",
      "75 9851586\n",
      "75 9848997\n",
      "75 9770403\n",
      "FINISHED RECURSIVE SORTS: 0\n",
      "BUILD TABLE: 0\n",
      "BUILD INDEX: 0\n",
      "COUNTED NEW NODES: 0\n",
      "COUNTED TEMP NODES: 0\n",
      "RESIZED NODES: 0\n",
      "RESIZED NODES: 0\n",
      "MADE NEW NODES: 1\n",
      "MERGEUPDATERANK: 0\n",
      "TOTAL TIME: 2\n",
      "Generation 5 (39322184 -> 39317557 nodes, 34612896 ranks)\n",
      "ALLOCATE FROM_TABLE: 0\n",
      "COUNT NUMBER IN EACH BIN: 0\n",
      "FINISHED FIRST ROUND: 0\n",
      "75 9845736\n",
      "75 9852127\n",
      "75 9849034\n",
      "75 9770660\n",
      "FINISHED RECURSIVE SORTS: 0\n",
      "BUILD TABLE: 0\n",
      "BUILD INDEX: 0\n",
      "COUNTED NEW NODES: 0\n",
      "COUNTED TEMP NODES: 0\n",
      "RESIZED NODES: 0\n",
      "RESIZED NODES: 0\n",
      "MADE NEW NODES: 1\n",
      "MERGEUPDATERANK: 0\n",
      "TOTAL TIME: 1\n",
      "Generation 6 (39323256 -> 39321583 nodes, 37172451 ranks)\n",
      "ALLOCATE FROM_TABLE: 0\n",
      "COUNT NUMBER IN EACH BIN: 0\n",
      "FINISHED FIRST ROUND: 0\n",
      "75 9848256\n",
      "75 9853016\n",
      "75 9849079\n",
      "75 9771232\n",
      "FINISHED RECURSIVE SORTS: 0\n",
      "BUILD TABLE: 0\n",
      "BUILD INDEX: 0\n",
      "COUNTED NEW NODES: 0\n",
      "COUNTED TEMP NODES: 0\n",
      "RESIZED NODES: 0\n",
      "RESIZED NODES: 0\n",
      "MADE NEW NODES: 0\n",
      "MERGEUPDATERANK: 0\n",
      "TOTAL TIME: 0\n",
      "Generation 7 (39327438 -> 39325919 nodes, 38260854 ranks)\n",
      "ALLOCATE FROM_TABLE: 0\n",
      "COUNT NUMBER IN EACH BIN: 0\n",
      "FINISHED FIRST ROUND: 1\n",
      "75 9851614\n",
      "75 9853455\n",
      "75 9849084\n",
      "75 9771766\n",
      "FINISHED RECURSIVE SORTS: 0\n",
      "BUILD TABLE: 1\n",
      "BUILD INDEX: 0\n",
      "COUNTED NEW NODES: 0\n",
      "COUNTED TEMP NODES: 0\n",
      "RESIZED NODES: 0\n",
      "RESIZED NODES: 0\n",
      "MADE NEW NODES: 0\n",
      "MERGEUPDATERANK: 0\n",
      "TOTAL TIME: 1\n",
      "Generation 8 (39332047 -> 39330184 nodes, 39014973 ranks)\n",
      "ALLOCATE FROM_TABLE: 0\n",
      "COUNT NUMBER IN EACH BIN: 0\n",
      "FINISHED FIRST ROUND: 0\n",
      "75 9854751\n",
      "75 9853667\n",
      "75 9849039\n",
      "75 9772727\n",
      "FINISHED RECURSIVE SORTS: 0\n",
      "BUILD TABLE: 0\n",
      "BUILD INDEX: 0\n",
      "COUNTED NEW NODES: 1\n",
      "COUNTED TEMP NODES: 0\n",
      "RESIZED NODES: 0\n",
      "RESIZED NODES: 0\n",
      "MADE NEW NODES: 0\n",
      "MERGEUPDATERANK: 0\n",
      "TOTAL TIME: 1\n",
      "Generation 9 (39337374 -> 39335766 nodes, 39213952 ranks)\n",
      "ALLOCATE FROM_TABLE: 0\n",
      "COUNT NUMBER IN EACH BIN: 0\n",
      "FINISHED FIRST ROUND: 0\n",
      "75 9858618\n",
      "75 9853665\n",
      "75 9849039\n",
      "75 9774444\n",
      "FINISHED RECURSIVE SORTS: 0\n",
      "BUILD TABLE: 0\n",
      "BUILD INDEX: 0\n",
      "COUNTED NEW NODES: 0\n",
      "COUNTED TEMP NODES: 0\n",
      "RESIZED NODES: 0\n",
      "RESIZED NODES: 0\n",
      "MADE NEW NODES: 0\n",
      "MERGEUPDATERANK: 0\n",
      "TOTAL TIME: 0\n",
      "Generation 10 (39342142 -> 39339288 nodes, 39289153 ranks)\n",
      "ALLOCATE FROM_TABLE: 0\n",
      "COUNT NUMBER IN EACH BIN: 0\n",
      "FINISHED FIRST ROUND: 0\n",
      "75 9861262\n",
      "75 9853665\n",
      "75 9849039\n",
      "75 9775322\n",
      "FINISHED RECURSIVE SORTS: 1\n",
      "BUILD TABLE: 1\n",
      "BUILD INDEX: 0\n",
      "COUNTED NEW NODES: 0\n",
      "COUNTED TEMP NODES: 0\n",
      "RESIZED NODES: 0\n",
      "RESIZED NODES: 0\n",
      "MADE NEW NODES: 0\n",
      "MERGEUPDATERANK: 0\n",
      "TOTAL TIME: 1\n",
      "Generation 11 (39342851 -> 39339120 nodes, 39321913 ranks)\n",
      "ALLOCATE FROM_TABLE: 0\n",
      "COUNT NUMBER IN EACH BIN: 0\n",
      "FINISHED FIRST ROUND: 0\n",
      "75 9862005\n",
      "75 9853665\n",
      "75 9849039\n",
      "75 9774411\n",
      "FINISHED RECURSIVE SORTS: 0\n",
      "BUILD TABLE: 0\n",
      "BUILD INDEX: 0\n",
      "COUNTED NEW NODES: 0\n",
      "COUNTED TEMP NODES: 0\n",
      "RESIZED NODES: 0\n",
      "RESIZED NODES: 0\n",
      "MADE NEW NODES: 0\n",
      "MERGEUPDATERANK: 0\n",
      "TOTAL TIME: 0\n",
      "Generation 12 (39340396 -> 39335818 nodes, 39331595 ranks)\n",
      "ALLOCATE FROM_TABLE: 0\n",
      "COUNT NUMBER IN EACH BIN: 0\n",
      "FINISHED FIRST ROUND: 0\n",
      "75 9859979\n",
      "75 9853665\n",
      "75 9849039\n",
      "75 9773135\n",
      "FINISHED RECURSIVE SORTS: 1\n",
      "BUILD TABLE: 1\n",
      "BUILD INDEX: 0\n",
      "COUNTED NEW NODES: 0\n",
      "COUNTED TEMP NODES: 0\n",
      "RESIZED NODES: 0\n",
      "RESIZED NODES: 0\n",
      "MADE NEW NODES: 0\n",
      "MERGEUPDATERANK: 0\n",
      "TOTAL TIME: 1\n",
      "Generation 13 (39335818 -> 39335810 nodes, 39335810 ranks)\n",
      "COUNT NUMBER IN EACH BIN: 0\n",
      "FINISHED FIRST ROUND: 0\n",
      "75 9859971\n",
      "75 9853665\n",
      "75 9849039\n",
      "75 9773135\n",
      "FINISHED RECURSIVE SORTS: 0\n",
      "Generating edges... \n",
      "NODE.TO -> GENOME POS: 0\n",
      "BUILD FROM_INDEX 0\n",
      "COUNTED NEW EDGES: 0\n",
      "MADE NEW EDGES: 0\n",
      "COUNT NUMBER IN EACH BIN: 0\n",
      "FINISHED FIRST ROUND: 0\n",
      "66 2624885\n",
      "86 2610093\n",
      "63 2625515\n",
      "86 2570395\n",
      "FINISHED RECURSIVE SORTS: 0\n",
      "COUNT NUMBER IN EACH BIN: 0\n",
      "FINISHED FIRST ROUND: 0\n",
      "61 2338524\n",
      "63 2320906\n",
      "116 2288728\n",
      "61 2257152\n",
      "FINISHED RECURSIVE SORTS: 0\n",
      "COUNT NUMBER IN EACH BIN: 0\n",
      "FINISHED FIRST ROUND: 0\n",
      "75 2343612\n",
      "77 2338841\n",
      "61 2327164\n",
      "88 2281489\n",
      "FINISHED RECURSIVE SORTS: 0\n",
      "COUNT NUMBER IN EACH BIN: 0\n",
      "FINISHED FIRST ROUND: 0\n",
      "103 2610076\n",
      "71 2637301\n",
      "62 2625943\n",
      "65 2542590\n",
      "FINISHED RECURSIVE SORTS: 0\n",
      "SORTED NEW EDGES: 1\n",
      "COUNT NUMBER IN EACH BIN: 0\n",
      "FINISHED FIRST ROUND: 0\n",
      "76 9961472\n",
      "75 9830400\n",
      "75 9830400\n",
      "75 9713538\n",
      "FINISHED RECURSIVE SORTS: 1\n",
      "RE-SORTED NODES: 1\n",
      "PROCESS EDGES: 0\n",
      "REMOVE Y: 0\n",
      "COUNT NUMBER IN EACH BIN: 0\n",
      "FINISHED FIRST ROUND: 0\n",
      "76 9963449\n",
      "75 9833950\n",
      "75 9831860\n",
      "75 9713956\n",
      "FINISHED RECURSIVE SORTS: 0\n",
      "SORT, Make index: 0\n",
      "TOTAL: 2\n",
      "Allocating ftab, absorbFtab\n",
      "Entering GFM loop\n",
      "Exited GFM loop\n",
      "fchr[A]: 0\n",
      "fchr[C]: 10430888\n",
      "fchr[G]: 19636198\n",
      "fchr[T]: 28927304\n",
      "fchr[$]: 39343214\n",
      "Exiting GFM::buildToDisk()\n",
      "Returning from initFromVector\n",
      "Wrote 28409188 bytes to primary GFM file: /home/ubuntu/workspace/rnaseq/refs/chr22_with_ERCC92.1.ht2\n",
      "Wrote 9833960 bytes to secondary GFM file: /home/ubuntu/workspace/rnaseq/refs/chr22_with_ERCC92.2.ht2\n",
      "Re-opening _in1 and _in2 as input streams\n",
      "Returning from GFM constructor\n",
      "Returning from initFromVector\n",
      "Wrote 25762107 bytes to primary GFM file: /home/ubuntu/workspace/rnaseq/refs/chr22_with_ERCC92.5.ht2\n",
      "Wrote 9998776 bytes to secondary GFM file: /home/ubuntu/workspace/rnaseq/refs/chr22_with_ERCC92.6.ht2\n",
      "Re-opening _in5 and _in5 as input streams\n",
      "Returning from HGFM constructor\n",
      "Headers:\n",
      "    len: 39242532\n",
      "    gbwtLen: 39343215\n",
      "    nodes: 39335809\n",
      "    sz: 19621266\n",
      "    gbwtSz: 19671608\n",
      "    lineRate: 7\n",
      "    offRate: 4\n",
      "    offMask: 0xfffffff0\n",
      "    ftabChars: 10\n",
      "    eftabLen: 0\n",
      "    eftabSz: 0\n",
      "    ftabLen: 1048577\n",
      "    ftabSz: 4194308\n",
      "    offsLen: 2458489\n",
      "    offsSz: 9833956\n",
      "    lineSz: 128\n",
      "    sideSz: 128\n",
      "    sideGbwtSz: 104\n",
      "    sideGbwtLen: 208\n",
      "    numSides: 189151\n",
      "    numLines: 189151\n",
      "    gbwtTotLen: 24211328\n",
      "    gbwtTotSz: 24211328\n",
      "    reverse: 0\n",
      "    linearFM: No\n",
      "Total time for call to driver() for forward index: 00:00:57\n",
      "chr22_only.fa            chr22_with_ERCC92.5.ht2  chr22_with_ERCC92.gtf\n",
      "chr22_with_ERCC92.1.ht2  chr22_with_ERCC92.6.ht2  exons.tsv\n",
      "chr22_with_ERCC92.2.ht2  chr22_with_ERCC92.7.ht2  splicesites.tsv\n",
      "chr22_with_ERCC92.3.ht2  chr22_with_ERCC92.8.ht2\n",
      "chr22_with_ERCC92.4.ht2  chr22_with_ERCC92.fa\n"
     ]
    }
   ],
   "source": [
    "hisat2_extract_exons.py $RNA_REF_GTF > $RNA_REFS_DIR/exons.tsv\n",
    "hisat2-build -p 4 --ss $RNA_REFS_DIR/splicesites.tsv --exon $RNA_REFS_DIR/exons.tsv $RNA_REF_FASTA $RNA_REF_INDEX\n",
    "ls"
   ]
  },
  {
   "cell_type": "code",
   "execution_count": null,
   "id": "60006dcb-51c8-45a8-b0fe-37692f60aa9c",
   "metadata": {},
   "outputs": [],
   "source": []
  }
 ],
 "metadata": {
  "kernelspec": {
   "display_name": "Bash",
   "language": "bash",
   "name": "bash"
  },
  "language_info": {
   "codemirror_mode": "shell",
   "file_extension": ".sh",
   "mimetype": "text/x-sh",
   "name": "bash"
  }
 },
 "nbformat": 4,
 "nbformat_minor": 5
}

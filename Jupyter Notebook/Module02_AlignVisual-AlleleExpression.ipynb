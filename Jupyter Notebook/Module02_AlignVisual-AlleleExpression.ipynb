{
 "cells": [
  {
   "cell_type": "markdown",
   "id": "09af0279-df59-4c62-bfd2-383521e7f499",
   "metadata": {},
   "source": [
    "# Objective:\n",
    "In this section we will demonstrate how to assess expression of specific variant alleles at particular positions in the RNA-seq BAM.\n",
    "# BAM Read Counting\n",
    "Using one of the variant positions identified, count the number of supporting reference and variant reads. \n",
    "## 1. First, use samtools mpileup to visualize a region of alignment with a variant.\n",
    "Each line consists of **chromosome**, **1-based coordinate**, **reference base**, the **number of reads covering the site**, **read bases** and **base qualities**. \n",
    "- At the read base column, a **dot** stands for a **match to the reference base on the forward strand**, a comma for a match on the reverse strand, ACGTN for a mismatch on the forward strand and acgtn for a mismatch on the reverse strand. A pattern \\+[0-9]+[ACGTNacgtn]+ indicates there is an insertion between this reference position and the next reference position. The length of the insertion is given by the integer in the pattern, followed by the inserted sequence.\n",
    "\n",
    "See samtools pileup/mpileup documentation for more explanation of the output:\n",
    "- http://samtools.sourceforge.net/pileup.shtml\n",
    "- http://samtools.sourceforge.net/mpileup.shtml"
   ]
  },
  {
   "cell_type": "code",
   "execution_count": 1,
   "id": "5bfe0233-d25f-482b-a024-c14dd958b153",
   "metadata": {},
   "outputs": [
    {
     "name": "stdout",
     "output_type": "stream",
     "text": [
      "/home/ubuntu/workspace/rnaseq/refs/chr22_with_ERCC92.fa\n",
      "[mpileup] 2 samples in 2 input files\n",
      "22\t18918457\tA\t7\t..,.,.,\t3EJJDD?\t32\t>.$.,.,,.,,..,,....,....,,,,.,.,.\tICD@mAJCIJDDJJDDDDJEEHJJIJEGEIDI\n",
      "22\t18918458\tG\t7\t..,.,.,\t8EIIEDC\t31\t>.$,.,,.,,..,,....,....,,,,.,.,.\tIB@k:JBJJDDJJDDDDJDEGHJGJFGEIDJ\n",
      "22\t18918459\tC\t7\t..,.,.,\t8DJJDH?\t30\t>,$.,,.,,..,,....,....,,,,.,.,.\tI@mAIDIIDDIJBDDDJDDFHJIJFIHJDJ\n",
      "22\t18918460\tT\t7\t..,.,.,\t4DIIAEB\t29\t>.,,.,,..,,....,....,,,,.,.,.\tImFIDGJDDIICDDCJDEFGIHJFIHJDJ\n",
      "22\t18918461\tC\t7\t..,.,.,\t4DJIDH@\t29\t>.,,.,,..,,....,....,,,,.,.,.\tImHJDJJDDIJDDDDJDDFHJFJFIEJDJ\n",
      "22\t18918462\tC\t8\t..,.,.,^].\t:DJJFE?@\t29\t>.,,.,,..,,....,....,,,,.,.,.\tImHJDIJDDIJDDDCIDDFHIGJHIDIDJ\n",
      "22\t18918463\tA\t8\t..,.,.,.\t>DIJBH5@\t29\t>.,,.,,..,,....,....,,,,.,.,.\tIkDIaHJDDEICDDCGDDFFHFHHGBGFJ\n",
      "22\t18918464\tC\t8\t..,.,.,.\t?DJJFG@@\t29\t>.,,.,t..,,....,....,,,,.,.,.\tIkDJgJJDDJJCDDCJDDEFHHJHGHHFJ\n",
      "22\t18918465\tG\t9\t..,.,.,.^].\t?DJJHG?FF\t30\t>.,a.,,..,,....,....,,,,.,A,.^].\tIkBIgJJDDJJBDDDHDDDFJBJJIFIFJC\n",
      "22\t18918466\tT\t9\t..,.,.,..\t2BJEHF5DF\t30\t>.,,.,,..,,....,....,,,,.,.,..\tIkBFeJJBDIIABBDJDDDFI?JJ@HJHHB\n",
      "22\t18918467\tC\t9\t..,.,.,..\t8DJHHG=DF\t30\t>.$,,.,,..,,....,....,,,,.,.,..\tIdDGgJJDDJJBDDDJDDDDHBJJEHJHIC\n"
     ]
    }
   ],
   "source": [
    "cd $RNA_HOME\n",
    "mkdir bam_readcount\n",
    "cd bam_readcount\n",
    "\n",
    "# Create indexed reference sequence fasta file (faidx) for use with mpileup\n",
    "echo $RNA_REF_FASTA\n",
    "samtools faidx $RNA_REF_FASTA\n",
    "\n",
    "# Run samtools mpileup on a region of interest\n",
    "samtools mpileup -f $RNA_REF_FASTA -r 22:18918457-18918467 $RNA_ALIGN_DIR/UHR.bam $RNA_ALIGN_DIR/HBR.bam"
   ]
  },
  {
   "cell_type": "markdown",
   "id": "95608d99-1a08-4677-9a82-e87a5446637a",
   "metadata": {},
   "source": [
    "## 2. Now, use bam-readcount to count reference and variant bases at a specific position. \n",
    "First, create a bed file with some positions of interest (we will create a file called snvs.bed using the echo command).\n",
    "It will contain a single line specifying a variant position on chr22 e.g.:\n",
    "22:38483683-38483683"
   ]
  },
  {
   "cell_type": "code",
   "execution_count": 2,
   "id": "e3131cb9-977b-48a7-8954-823978d492c5",
   "metadata": {},
   "outputs": [
    {
     "name": "stdout",
     "output_type": "stream",
     "text": [
      "22 38483683 38483683\n"
     ]
    }
   ],
   "source": [
    "# create a bed file with some positions of interest\n",
    "echo \"22 38483683 38483683\"\n",
    "echo \"22 38483683 38483683\" > snvs.bed"
   ]
  },
  {
   "cell_type": "code",
   "execution_count": 3,
   "id": "29b35ebd-9184-45ea-ba59-10fda2f2a53b",
   "metadata": {},
   "outputs": [
    {
     "name": "stdout",
     "output_type": "stream",
     "text": [
      "22\t38483683\tG\t326\t=:0:0.00:0.00:0.00:0:0:0.00:0.00:0.00:0:0.00:0.00:0.00\tA:163:60.00:37.15:0.00:94:69:0.53:0.01:38.37:96:0.56:99.98:0.54\tC:0:0.00:0.00:0.00:0:0:0.00:0.00:0.00:0:0.00:0.00:0.00\tG:163:60.00:37.06:0.74:84:79:0.45:0.00:1.90:89:0.53:99.86:0.54\tT:0:0.00:0.00:0.00:0:0:0.00:0.00:0.00:0:0.00:0.00:0.00\tN:0:0.00:0.00:0.00:0:0:0.00:0.00:0.00:0:0.00:0.00:0.00\n",
      "22\t38483683\tG\t206\t=:0:0.00:0.00:0.00:0:0:0.00:0.00:0.00:0:0.00:0.00:0.00\tA:75:60.00:38.41:0.00:44:31:0.52:0.01:38.99:44:0.55:99.99:0.50\tC:0:0.00:0.00:0.00:0:0:0.00:0.00:0.00:0:0.00:0.00:0.00\tG:131:60.00:37.31:0.00:76:55:0.50:0.00:1.22:77:0.56:99.95:0.54\tT:0:0.00:0.00:0.00:0:0:0.00:0.00:0.00:0:0.00:0.00:0.00\tN:0:0.00:0.00:0.00:0:0:0.00:0.00:0.00:0:0.00:0.00:0.00\n"
     ]
    }
   ],
   "source": [
    "# Run bam-readcount on this list for the tumor and normal merged bam files\n",
    "bam-readcount -l snvs.bed -f $RNA_REF_FASTA $RNA_ALIGN_DIR/UHR.bam 2>/dev/null\n",
    "bam-readcount -l snvs.bed -f $RNA_REF_FASTA $RNA_ALIGN_DIR/HBR.bam 2>/dev/null"
   ]
  },
  {
   "cell_type": "code",
   "execution_count": 4,
   "id": "46d71a56-4670-4674-8033-a7c266eb3e6b",
   "metadata": {},
   "outputs": [],
   "source": [
    "# Now, run it again, but ignore stderr and redirect stdout to a file:\n",
    "bam-readcount -l snvs.bed -f $RNA_REF_FASTA $RNA_ALIGN_DIR/UHR.bam 2>/dev/null 1>UHR_bam-readcounts.txt\n",
    "bam-readcount -l snvs.bed -f $RNA_REF_FASTA $RNA_ALIGN_DIR/HBR.bam 2>/dev/null 1>HBR_bam-readcounts.txt"
   ]
  },
  {
   "cell_type": "code",
   "execution_count": 5,
   "id": "79a730a4-6739-483b-aded-3f84b2de625d",
   "metadata": {},
   "outputs": [
    {
     "name": "stdout",
     "output_type": "stream",
     "text": [
      "UHR Counts\t22\t38483683\tA: 163\tC: 0\tT: 0\tG: 163\n",
      "HBR Counts\t22\t38483683\tA: 75\tC: 0\tT: 0\tG: 131\n"
     ]
    }
   ],
   "source": [
    "# From this output you could parse the read counts for each base\n",
    "cat UHR_bam-readcounts.txt | perl -ne '@data=split(\"\\t\", $_); @Adata=split(\":\", $data[5]); @Cdata=split(\":\", $data[6]); @Gdata=split(\":\", $data[7]); @Tdata=split(\":\", $data[8]); print \"UHR Counts\\t$data[0]\\t$data[1]\\tA: $Adata[1]\\tC: $Cdata[1]\\tT: $Tdata[1]\\tG: $Gdata[1]\\n\";'\n",
    "cat HBR_bam-readcounts.txt | perl -ne '@data=split(\"\\t\", $_); @Adata=split(\":\", $data[5]); @Cdata=split(\":\", $data[6]); @Gdata=split(\":\", $data[7]); @Tdata=split(\":\", $data[8]); print \"HBR Counts\\t$data[0]\\t$data[1]\\tA: $Adata[1]\\tC: $Cdata[1]\\tT: $Tdata[1]\\tG: $Gdata[1]\\n\";'"
   ]
  },
  {
   "cell_type": "markdown",
   "id": "ffed1cb4-3164-4fd6-b5a6-06cbac405837",
   "metadata": {},
   "source": [
    "Beside perl code, here’s a [bam-readcount tutorial](https://github.com/genome/bam-readcount/tree/master/tutorial) that uses python to parse output from bam-readcount to identify a Omicron SARS-CoV-2 variant of concern from raw sequence data."
   ]
  },
  {
   "cell_type": "code",
   "execution_count": null,
   "id": "2011d758-6dbf-4c5d-a81f-515133e71c49",
   "metadata": {},
   "outputs": [],
   "source": []
  }
 ],
 "metadata": {
  "kernelspec": {
   "display_name": "Bash",
   "language": "bash",
   "name": "bash"
  },
  "language_info": {
   "codemirror_mode": "shell",
   "file_extension": ".sh",
   "mimetype": "text/x-sh",
   "name": "bash"
  }
 },
 "nbformat": 4,
 "nbformat_minor": 5
}

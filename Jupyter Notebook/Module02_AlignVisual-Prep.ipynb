{
 "cells": [
  {
   "cell_type": "markdown",
   "id": "d8957f12-a263-4d58-acd9-bd7100443396",
   "metadata": {},
   "source": [
    "# Indexing BAM files with samtools\n",
    "Before we can view our alignments in the IGV browser we need to index our BAM files. We will use samtools index for this purpose. "
   ]
  },
  {
   "cell_type": "code",
   "execution_count": 1,
   "id": "fbc396c0-debc-4e19-8c81-978ca0bbb5f3",
   "metadata": {},
   "outputs": [
    {
     "name": "stdout",
     "output_type": "stream",
     "text": [
      "/home/ubuntu/workspace/rnaseq/alignments/hisat2\n",
      "/home/ubuntu/workspace/rnaseq/alignments/hisat2\n",
      "HBR.bam       HBR_Rep2.bam  HBR_Rep3.sam  UHR_Rep1.sam  UHR_Rep3.bam\n",
      "HBR_Rep1.bam  HBR_Rep2.sam  UHR.bam       UHR_Rep2.bam  UHR_Rep3.sam\n",
      "HBR_Rep1.sam  HBR_Rep3.bam  UHR_Rep1.bam  UHR_Rep2.sam  samples.tsv\n"
     ]
    }
   ],
   "source": [
    "echo $RNA_ALIGN_DIR\n",
    "cd $RNA_ALIGN_DIR #RNA_ALIGN_DIR=$RNA_HOME/alignments/hisat2\n",
    "# To see your full path to RNA_ALIGN_DIR\n",
    "pwd\n",
    "# To see what contents are in RNA_ALIGN_DIR\n",
    "ls\n",
    "# To navigate all directories like how you navigate folders in your computer/laptop, go to: http://YOUR_PUBLIC_IPv4_ADDRESS"
   ]
  },
  {
   "cell_type": "code",
   "execution_count": 3,
   "id": "5905195b-6af2-433d-bd6b-5fde24a49267",
   "metadata": {},
   "outputs": [],
   "source": [
    "samtools index -M *.bam\n",
    "# flag -M interprets all filename arguments as files to be indexed, allowing multiple files to be indexed at the same time."
   ]
  },
  {
   "cell_type": "markdown",
   "id": "2e1f1ec2-ab26-4fcd-a77a-3851e0b3c9e0",
   "metadata": {},
   "source": [
    "# Optional: samtools docker image\n",
    "The course's Amazon Machine Image (AMI) \"cshl-seqtec-2024\" has Docker already installed so we don't need to install it. \n",
    "Try to create an index file for one of your bam files using a samtools docker image rather than the locally installed version of samtools. Below is an example docker run command.\n",
    "\n",
    "- **/tmp** is a temporary directory on your local Linux filesystem — in this case, it's on your EC2 instance\n",
    "- **-v** is the parameter used to mount your workspace so that the docker container can see the files that you’re working with. In the example above, **/tmp from the EC2 instance** has been mounted as **/docker_workspace within the docker container**.\n",
    "- **:v1.9-4-deb_cv1** refers to the specific tag and release of the docker container.\n",
    "- Note if this's your first time running Docker, \"Unable to find image 'biocontainers/samtools:v1.9-4-deb_cv1' locally\" just means the image is not yet downloaded on your EC2 instance. Thus, Docker will then reach out to Docker Hub (or wherever the image is hosted) and downloads the image layers: \"v1.9-4-deb_cv1: Pulling from biocontainers/samtools\""
   ]
  },
  {
   "cell_type": "code",
   "execution_count": 2,
   "id": "22786940-b57a-4b03-bf77-307faabda606",
   "metadata": {},
   "outputs": [
    {
     "name": "stdout",
     "output_type": "stream",
     "text": [
      "Unable to find image 'biocontainers/samtools:v1.9-4-deb_cv1' locally\n",
      "v1.9-4-deb_cv1: Pulling from biocontainers/samtools\n",
      "\n",
      "\u001b[1Bd0aa93c0: Pulling fs layer \n",
      "\u001b[1Ba239eb0e: Pulling fs layer \n",
      "\u001b[1B7313e9cb: Pulling fs layer \n",
      "\u001b[1Bce2e48be: Pulling fs layer \n",
      "\u001b[1B6ad56c57: Pulling fs layer \n",
      "\u001b[1Bfdba1cc8: Pulling fs layer \n",
      "\u001b[1BDigest: sha256:da61624fda230e94867c9429ca1112e1e77c24e500b52dfc84eaf2f5820b4a2a\n",
      "Status: Downloaded newer image for biocontainers/samtools:v1.9-4-deb_cv1\n",
      "/tmp/HBR.bam  /tmp/HBR.bam.bai\n"
     ]
    }
   ],
   "source": [
    "cp HBR.bam /tmp/\n",
    "docker run -v /tmp:/docker_workspace biocontainers/samtools:v1.9-4-deb_cv1 samtools index /docker_workspace/HBR.bam\n",
    "ls /tmp/HBR.bam*"
   ]
  },
  {
   "cell_type": "markdown",
   "id": "2d70daad-5ed9-4960-9ae7-f77852197283",
   "metadata": {},
   "source": [
    "# In the next step we will visualize these alignment BAM files using IGV.\n",
    "Start IGV on your computer/laptop. Load the UHR.bam & HBR.bam files in IGV. If you’re using AWS, you can load the necessary files in IGV directly from your web accessible amazon workspace (see below) using ‘File’ -> ‘Load from URL’.\n",
    "\n",
    "Make sure you select the appropriate reference genome build in IGV (top left corner of IGV): in this case hg38.\n",
    "\n",
    "AWS links to bam files:\n",
    "- UHR hisat2 alignment: http://YOUR_PUBLIC_IPv4_ADDRESS/rnaseq/alignments/hisat2/UHR.bam\n",
    "- HBR hisat2 alignment: http://YOUR_PUBLIC_IPv4_ADDRESS/rnaseq/alignments/hisat2/HBR.bam\n",
    "\n",
    "Go to an example gene locus on chr22:\n",
    "- e.g. EIF3L, NDUFA6, and RBX1 have nice coverage\n",
    "- e.g. SULT4A1 and GTSE1 are differentially expressed. Are they up-regulated or down-regulated in the brain (HBR) compared to cancer cell lines (UHR)?\n",
    "- Mouse over some reads and use the read group (RG) flag to determine which replicate the reads come from. What other details can you learn about each read and its alignment to the reference genome.\n",
    "\n"
   ]
  },
  {
   "cell_type": "markdown",
   "id": "a114000d-2e17-4cb8-89da-4c8a6fb77ad6",
   "metadata": {},
   "source": [
    "# Practical Exercise 7 - Visualize"
   ]
  },
  {
   "cell_type": "code",
   "execution_count": 1,
   "id": "051d037c-1e20-4ec9-9e0d-25f313f5e533",
   "metadata": {},
   "outputs": [],
   "source": [
    "cd $RNA_HOME/practice/alignments/hisat2\n",
    "samtools index HCC1395_normal.bam\n",
    "samtools index HCC1395_tumor.bam"
   ]
  },
  {
   "cell_type": "markdown",
   "id": "db8303cc-9ba9-4104-a103-940bba42046c",
   "metadata": {},
   "source": [
    "Start IGV on your laptop. Load the HCC1395_normal.bam & HCC1395_tumor.bam files in IGV. You can load the necessary files in IGV directly from your web accessible amazon workspace (see below) using ‘File’ -> ‘Load from URL’.\n",
    "- http://your-public-IPv4/rnaseq/practice/alignments/hisat2/HCC1395_normal.bam\n",
    "- http://your-public-IPv4/rnaseq/practice/alignments/hisat2/HCC1395_tumor.bam\n",
    "\n",
    "### Q1: Navigate to this location on chromosome 22: ‘chr22:38,466,394-38,508,115’. \n",
    "- What do you see here? \n",
    "- How would you describe the direction of transcription for the two genes? \n",
    "- Does the reported strand for the reads aligned to each of these genes appear to make sense? \n",
    "- How do you modify IGV settings to see the strand clearly? \n",
    "\n",
    "This region contains two genes, ‘KDELR3’ and ‘DDX17’. With repect to direction of transcription, these genes are arranged in a tail-to-tail fashion (their transcription end points are coming together). KDELR3 is transcribed from the ‘+ve’ or ‘top’ strand (left to right) and DDX17 is transcribed from the ‘-ve’ or ‘bottom’ strand (right to left). Yes, the reads aligned appear to correspond to the expected strand of transcription. To view this pattern, do an option click within the alignment track and select ‘Color alignments by’ and ‘first-of-pair strand’ from the viewing options. You can do this for both normal and tumor alignment tracks seperately.\n",
    "\n",
    "### Q2: How can we modify IGV to color reads by Read Group? How many read groups are there for each sample (tumor & normal)? What are your read group names for the tumor sample? \n",
    "To see the read group of each read cleary, do an option click within the alignment track and select ‘Color alignments by’ and ‘read group’. By viewing the colors of reads and info for individual reads we can see there are 3 read groups for normal, and 3 for tumor. The names will be what you specified during your alignment command. For example: ‘HCC1395_tumor_rep1’, ‘HCC1395_tumor_rep2’, ‘HCC1395_tumor_rep3’.\n",
    "\n",
    "### Q3: What are the options for visualizing splicing or alternative splicing patterns in IGV? \n",
    "- Navigate to this location on chromosome 22: ‘chr22:40,363,200-40,367,500’.\n",
    "- What splicing event do you see?\n",
    "\n",
    "There are two main options for viewing splicing patterns in IGV. You can option click within the alignment track and select ‘Show Splice Junction Track’, or you can select the ‘Sashimi Plot’ option. In this region you should see an alternative splicing pattern for the gene ADSL, where a cassette exon is either included or skipped. The exon skipping isoform appears to be the minor isoform."
   ]
  }
 ],
 "metadata": {
  "kernelspec": {
   "display_name": "Bash",
   "language": "bash",
   "name": "bash"
  },
  "language_info": {
   "codemirror_mode": "shell",
   "file_extension": ".sh",
   "mimetype": "text/x-sh",
   "name": "bash"
  }
 },
 "nbformat": 4,
 "nbformat_minor": 5
}

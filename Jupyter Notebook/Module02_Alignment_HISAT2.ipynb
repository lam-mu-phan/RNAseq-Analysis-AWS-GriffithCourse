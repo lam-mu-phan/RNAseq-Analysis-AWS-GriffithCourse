{
 "cells": [
  {
   "cell_type": "markdown",
   "id": "b7c4f674-770d-4c96-a1d0-af32228fed12",
   "metadata": {},
   "source": [
    "# Step 1: Alignment with HISAT2\n",
    "\n",
    "- **-p 4** tells HISAT2 to use 4 CPUs for bowtie alignments.\n",
    "- **–rna-strandness RF** specifies strandness of RNAseq library. We will specify RF since the TruSeq strand-specific library was used to make these libraries. See here for options.\n",
    "- **–rg-id ID** specifies a read group ID that is a unique identifier.\n",
    "- **–rg SM:SAMPLE_NAME** specifies a read group sample name. This together with rg-id will allow you to determine which reads came from which sample in the merged bam later on.\n",
    "- **–rg LB:LIBRARY_NAME** specifies a read group library name. This together with rg-id will allow you to determine which reads came from which library in the merged bam later on.\n",
    "- **–rg PL:ILLUMINA** specifies a read group sequencing platform.\n",
    "- **–rg PU:PLATFORM_UNIT** specifies a read group sequencing platform unit. Typically this consists of FLOWCELL-BARCODE.LANE\n",
    "- **–dta** Reports alignments tailored for transcript assemblers.\n",
    "- **-x /path/to/hisat2/index** The HISAT2 index filename prefix (minus the trailing .X.ht2) built earlier including splice sites and exons.\n",
    "- **-1 /path/to/read1.fastq.gz** The read 1 FASTQ file, optionally gzip(.gz) or bzip2(.bz2) compressed.\n",
    "- **-2 /path/to/read2.fastq.gz** The read 2 FASTQ file, optionally gzip(.gz) or bzip2(.bz2) compressed.\n",
    "- **-S /path/to/output.sam** The output SAM format text file of alignments."
   ]
  },
  {
   "cell_type": "code",
   "execution_count": 2,
   "id": "14467b6b-f39b-4417-9511-b004914ab380",
   "metadata": {},
   "outputs": [
    {
     "name": "stdout",
     "output_type": "stream",
     "text": [
      "/home/ubuntu/workspace/rnaseq/alignments/hisat2\n",
      "/home/ubuntu/workspace/rnaseq/alignments/hisat2\n"
     ]
    }
   ],
   "source": [
    "echo $RNA_ALIGN_DIR #Note: RNA_ALIGN_DIR=/home/ubuntu/workspace/rnaseq/alignments/hisat2\n",
    "mkdir -p $RNA_ALIGN_DIR\n",
    "cd $RNA_ALIGN_DIR\n",
    "pwd"
   ]
  },
  {
   "cell_type": "markdown",
   "id": "c7c9897d-32b4-46ce-8130-8bcbd4dcbe22",
   "metadata": {},
   "source": [
    "## This is the course's code to align reads with HISAT2:"
   ]
  },
  {
   "cell_type": "code",
   "execution_count": null,
   "id": "4e63f7ff-7454-48d5-ba15-db093bf47206",
   "metadata": {},
   "outputs": [],
   "source": [
    "hisat2 -p 4 --rg-id=UHR_Rep1 --rg SM:UHR --rg LB:UHR_Rep1_ERCC-Mix1 --rg PL:ILLUMINA --rg PU:CXX1234-ACTGAC.1 -x $RNA_REF_INDEX --dta --rna-strandness RF -1 $RNA_DATA_DIR/UHR_Rep1_ERCC-Mix1_Build37-ErccTranscripts-chr22.read1.fastq.gz -2 $RNA_DATA_DIR/UHR_Rep1_ERCC-Mix1_Build37-ErccTranscripts-chr22.read2.fastq.gz -S ./UHR_Rep1.sam\n",
    "hisat2 -p 4 --rg-id=UHR_Rep2 --rg SM:UHR --rg LB:UHR_Rep2_ERCC-Mix1 --rg PL:ILLUMINA --rg PU:CXX1234-TGACAC.1 -x $RNA_REF_INDEX --dta --rna-strandness RF -1 $RNA_DATA_DIR/UHR_Rep2_ERCC-Mix1_Build37-ErccTranscripts-chr22.read1.fastq.gz -2 $RNA_DATA_DIR/UHR_Rep2_ERCC-Mix1_Build37-ErccTranscripts-chr22.read2.fastq.gz -S ./UHR_Rep2.sam\n",
    "hisat2 -p 4 --rg-id=UHR_Rep3 --rg SM:UHR --rg LB:UHR_Rep3_ERCC-Mix1 --rg PL:ILLUMINA --rg PU:CXX1234-CTGACA.1 -x $RNA_REF_INDEX --dta --rna-strandness RF -1 $RNA_DATA_DIR/UHR_Rep3_ERCC-Mix1_Build37-ErccTranscripts-chr22.read1.fastq.gz -2 $RNA_DATA_DIR/UHR_Rep3_ERCC-Mix1_Build37-ErccTranscripts-chr22.read2.fastq.gz -S ./UHR_Rep3.sam\n",
    "\n",
    "hisat2 -p 4 --rg-id=HBR_Rep1 --rg SM:HBR --rg LB:HBR_Rep1_ERCC-Mix2 --rg PL:ILLUMINA --rg PU:CXX1234-TGACAC.1 -x $RNA_REF_INDEX --dta --rna-strandness RF -1 $RNA_DATA_DIR/HBR_Rep1_ERCC-Mix2_Build37-ErccTranscripts-chr22.read1.fastq.gz -2 $RNA_DATA_DIR/HBR_Rep1_ERCC-Mix2_Build37-ErccTranscripts-chr22.read2.fastq.gz -S ./HBR_Rep1.sam\n",
    "hisat2 -p 4 --rg-id=HBR_Rep2 --rg SM:HBR --rg LB:HBR_Rep2_ERCC-Mix2 --rg PL:ILLUMINA --rg PU:CXX1234-GACACT.1 -x $RNA_REF_INDEX --dta --rna-strandness RF -1 $RNA_DATA_DIR/HBR_Rep2_ERCC-Mix2_Build37-ErccTranscripts-chr22.read1.fastq.gz -2 $RNA_DATA_DIR/HBR_Rep2_ERCC-Mix2_Build37-ErccTranscripts-chr22.read2.fastq.gz -S ./HBR_Rep2.sam\n",
    "hisat2 -p 4 --rg-id=HBR_Rep3 --rg SM:HBR --rg LB:HBR_Rep3_ERCC-Mix2 --rg PL:ILLUMINA --rg PU:CXX1234-ACACTG.1 -x $RNA_REF_INDEX --dta --rna-strandness RF -1 $RNA_DATA_DIR/HBR_Rep3_ERCC-Mix2_Build37-ErccTranscripts-chr22.read1.fastq.gz -2 $RNA_DATA_DIR/HBR_Rep3_ERCC-Mix2_Build37-ErccTranscripts-chr22.read2.fastq.gz -S ./HBR_Rep3.sam"
   ]
  },
  {
   "cell_type": "markdown",
   "id": "bfa45606-3600-4f94-af67-eee914fa8f11",
   "metadata": {},
   "source": [
    "## Alternatively: A cleaner and scalable method from ChatGPT to align reads with HISAT2:\n",
    "### 1. First, create a samples.tsv\n",
    "### 2. Then use a Bash loop"
   ]
  },
  {
   "cell_type": "markdown",
   "id": "b4732be5-b1f1-48bc-bf1e-49cd6ff1d2b2",
   "metadata": {},
   "source": [
    "### To create samples.tsv on WSL terminal"
   ]
  },
  {
   "cell_type": "code",
   "execution_count": null,
   "id": "157a3ccd-f18b-49d4-9489-cd7def1d521c",
   "metadata": {
    "jupyter": {
     "source_hidden": true
    }
   },
   "outputs": [],
   "source": [
    "nano samples.tsv # This will create and open an empty file\n",
    "# Paste the following to that empty file\n",
    "SampleID\tSM\tMix\tPU\n",
    "UHR_Rep1\tUHR\t1\tCXX1234-ACTGAC.1\n",
    "UHR_Rep2\tUHR\t1\tCXX1234-TGACAC.1\n",
    "UHR_Rep3\tUHR\t1\tCXX1234-CTGACA.1\n",
    "HBR_Rep1\tHBR\t2\tCXX1234-TGACAC.1\n",
    "HBR_Rep2\tHBR\t2\tCXX1234-GACACT.1\n",
    "HBR_Rep3\tHBR\t2\tCXX1234-ACACTG.1\n",
    "\n",
    "# Then:\n",
    "# 1. Press Ctrl+O to write (save) the file.\n",
    "# 2. Press Enter to confirm the filename (samples.tsv).\n",
    "# 3. Press Ctrl+X to exit Nano."
   ]
  },
  {
   "cell_type": "markdown",
   "id": "478b2d3a-3acd-47c9-84b5-50bb66e2e522",
   "metadata": {},
   "source": [
    "### To create samples.tsv on Jupyter Notebook bash kernel"
   ]
  },
  {
   "cell_type": "code",
   "execution_count": 6,
   "id": "aee596f0-0c03-49d2-aec3-febead14b19b",
   "metadata": {},
   "outputs": [],
   "source": [
    "printf \"SampleID\\tSM\\tMix\\tPU\\n\\\n",
    "UHR_Rep1\\tUHR\\t1\\tCXX1234-ACTGAC.1\\n\\\n",
    "UHR_Rep2\\tUHR\\t1\\tCXX1234-TGACAC.1\\n\\\n",
    "UHR_Rep3\\tUHR\\t1\\tCXX1234-CTGACA.1\\n\\\n",
    "HBR_Rep1\\tHBR\\t2\\tCXX1234-TGACAC.1\\n\\\n",
    "HBR_Rep2\\tHBR\\t2\\tCXX1234-GACACT.1\\n\\\n",
    "HBR_Rep3\\tHBR\\t2\\tCXX1234-ACACTG.1\\n\" > samples.tsv"
   ]
  },
  {
   "cell_type": "code",
   "execution_count": 7,
   "id": "15f75254-6db5-476b-bacc-1e89d801217c",
   "metadata": {},
   "outputs": [
    {
     "name": "stdout",
     "output_type": "stream",
     "text": [
      "SampleID\tSM\tMix\tPU\n",
      "UHR_Rep1\tUHR\t1\tCXX1234-ACTGAC.1\n",
      "UHR_Rep2\tUHR\t1\tCXX1234-TGACAC.1\n",
      "UHR_Rep3\tUHR\t1\tCXX1234-CTGACA.1\n",
      "HBR_Rep1\tHBR\t2\tCXX1234-TGACAC.1\n",
      "HBR_Rep2\tHBR\t2\tCXX1234-GACACT.1\n",
      "HBR_Rep3\tHBR\t2\tCXX1234-ACACTG.1\n"
     ]
    }
   ],
   "source": [
    "# To confirm the file was created\n",
    "cat samples.tsv"
   ]
  },
  {
   "cell_type": "code",
   "execution_count": 8,
   "id": "2032f3a0-3a42-4ff5-9383-690deec969bd",
   "metadata": {
    "collapsed": true,
    "jupyter": {
     "outputs_hidden": true
    },
    "scrolled": true
   },
   "outputs": [
    {
     "name": "stdout",
     "output_type": "stream",
     "text": [
      "SampleID  SM   Mix  PU\n",
      "UHR_Rep1  UHR  1    CXX1234-ACTGAC.1\n",
      "UHR_Rep2  UHR  1    CXX1234-TGACAC.1\n",
      "UHR_Rep3  UHR  1    CXX1234-CTGACA.1\n",
      "HBR_Rep1  HBR  2    CXX1234-TGACAC.1\n",
      "HBR_Rep2  HBR  2    CXX1234-GACACT.1\n",
      "HBR_Rep3  HBR  2    CXX1234-ACACTG.1\n"
     ]
    }
   ],
   "source": [
    "# to double-check it's tab-separated:\n",
    "column -t -s $'\\t' samples.tsv # will display samples.tsv nicely as a table if the tabs are correct"
   ]
  },
  {
   "cell_type": "markdown",
   "id": "1869b72b-a918-417a-bcfa-f667195a8a80",
   "metadata": {},
   "source": [
    "### Bash loop for HISAT2 alignment\n",
    "- **while ...; do ... done** is a standard Bash while loop that reads the file line-by-line.\n",
    "- **IFS=...** sets the Internal Field Separator to a tab character (\\t).\n",
    "- **read** reads one line from the file and assigns the tab-separated fields into the variables:\n",
    "    - SAMPLE → sample ID\n",
    "    - SM → HBR or UHR)\n",
    "    - MIX → 1 or 2\n",
    "    - PU → platform unit (e.g. flowcell barcode)\n",
    "- **The -r flag** tells read not to interpret backslashes as escape characters.\n",
    "- **[[...]] && continue** checks if the value in the first column ($SAMPLE) is the string \"SampleID\", if so **continue** skips that line and goes to the next iteration of the loop\n",
    "- **< samples.tsv** redirects the contents of samples.tsv into the loop so each line is processed"
   ]
  },
  {
   "cell_type": "code",
   "execution_count": 9,
   "id": "3c964a86-eb4e-4583-b0f4-5f4758b5d719",
   "metadata": {
    "collapsed": true,
    "jupyter": {
     "outputs_hidden": true
    },
    "scrolled": true
   },
   "outputs": [
    {
     "name": "stdout",
     "output_type": "stream",
     "text": [
      "227392 reads; of these:\n",
      "  227392 (100.00%) were paired; of these:\n",
      "    1155 (0.51%) aligned concordantly 0 times\n",
      "    222491 (97.84%) aligned concordantly exactly 1 time\n",
      "    3746 (1.65%) aligned concordantly >1 times\n",
      "    ----\n",
      "    1155 pairs aligned concordantly 0 times; of these:\n",
      "      526 (45.54%) aligned discordantly 1 time\n",
      "    ----\n",
      "    629 pairs aligned 0 times concordantly or discordantly; of these:\n",
      "      1258 mates make up the pairs; of these:\n",
      "        510 (40.54%) aligned 0 times\n",
      "        646 (51.35%) aligned exactly 1 time\n",
      "        102 (8.11%) aligned >1 times\n",
      "99.89% overall alignment rate\n",
      "162373 reads; of these:\n",
      "  162373 (100.00%) were paired; of these:\n",
      "    965 (0.59%) aligned concordantly 0 times\n",
      "    158728 (97.76%) aligned concordantly exactly 1 time\n",
      "    2680 (1.65%) aligned concordantly >1 times\n",
      "    ----\n",
      "    965 pairs aligned concordantly 0 times; of these:\n",
      "      580 (60.10%) aligned discordantly 1 time\n",
      "    ----\n",
      "    385 pairs aligned 0 times concordantly or discordantly; of these:\n",
      "      770 mates make up the pairs; of these:\n",
      "        324 (42.08%) aligned 0 times\n",
      "        407 (52.86%) aligned exactly 1 time\n",
      "        39 (5.06%) aligned >1 times\n",
      "99.90% overall alignment rate\n",
      "185442 reads; of these:\n",
      "  185442 (100.00%) were paired; of these:\n",
      "    1157 (0.62%) aligned concordantly 0 times\n",
      "    181300 (97.77%) aligned concordantly exactly 1 time\n",
      "    2985 (1.61%) aligned concordantly >1 times\n",
      "    ----\n",
      "    1157 pairs aligned concordantly 0 times; of these:\n",
      "      717 (61.97%) aligned discordantly 1 time\n",
      "    ----\n",
      "    440 pairs aligned 0 times concordantly or discordantly; of these:\n",
      "      880 mates make up the pairs; of these:\n",
      "        378 (42.95%) aligned 0 times\n",
      "        447 (50.80%) aligned exactly 1 time\n",
      "        55 (6.25%) aligned >1 times\n",
      "99.90% overall alignment rate\n",
      "118571 reads; of these:\n",
      "  118571 (100.00%) were paired; of these:\n",
      "    483 (0.41%) aligned concordantly 0 times\n",
      "    117365 (98.98%) aligned concordantly exactly 1 time\n",
      "    723 (0.61%) aligned concordantly >1 times\n",
      "    ----\n",
      "    483 pairs aligned concordantly 0 times; of these:\n",
      "      330 (68.32%) aligned discordantly 1 time\n",
      "    ----\n",
      "    153 pairs aligned 0 times concordantly or discordantly; of these:\n",
      "      306 mates make up the pairs; of these:\n",
      "        188 (61.44%) aligned 0 times\n",
      "        109 (35.62%) aligned exactly 1 time\n",
      "        9 (2.94%) aligned >1 times\n",
      "99.92% overall alignment rate\n",
      "144826 reads; of these:\n",
      "  144826 (100.00%) were paired; of these:\n",
      "    622 (0.43%) aligned concordantly 0 times\n",
      "    143264 (98.92%) aligned concordantly exactly 1 time\n",
      "    940 (0.65%) aligned concordantly >1 times\n",
      "    ----\n",
      "    622 pairs aligned concordantly 0 times; of these:\n",
      "      454 (72.99%) aligned discordantly 1 time\n",
      "    ----\n",
      "    168 pairs aligned 0 times concordantly or discordantly; of these:\n",
      "      336 mates make up the pairs; of these:\n",
      "        215 (63.99%) aligned 0 times\n",
      "        111 (33.04%) aligned exactly 1 time\n",
      "        10 (2.98%) aligned >1 times\n",
      "99.93% overall alignment rate\n",
      "129786 reads; of these:\n",
      "  129786 (100.00%) were paired; of these:\n",
      "    516 (0.40%) aligned concordantly 0 times\n",
      "    128460 (98.98%) aligned concordantly exactly 1 time\n",
      "    810 (0.62%) aligned concordantly >1 times\n",
      "    ----\n",
      "    516 pairs aligned concordantly 0 times; of these:\n",
      "      352 (68.22%) aligned discordantly 1 time\n",
      "    ----\n",
      "    164 pairs aligned 0 times concordantly or discordantly; of these:\n",
      "      328 mates make up the pairs; of these:\n",
      "        204 (62.20%) aligned 0 times\n",
      "        116 (35.37%) aligned exactly 1 time\n",
      "        8 (2.44%) aligned >1 times\n",
      "99.92% overall alignment rate\n"
     ]
    }
   ],
   "source": [
    "while IFS=$'\\t' read -r SAMPLE SM MIX PU; do\n",
    "  [[ $SAMPLE == \"SampleID\" ]] && continue  # skip header\n",
    "\n",
    "  READ1=\"$RNA_DATA_DIR/${SAMPLE}_ERCC-Mix${MIX}_Build37-ErccTranscripts-chr22.read1.fastq.gz\"\n",
    "  READ2=\"$RNA_DATA_DIR/${SAMPLE}_ERCC-Mix${MIX}_Build37-ErccTranscripts-chr22.read2.fastq.gz\"\n",
    "\n",
    "  hisat2 -p 4 \\\n",
    "    --rg-id=$SAMPLE \\\n",
    "    --rg SM:$SM \\\n",
    "    --rg LB:${SAMPLE}_ERCC-Mix${MIX} \\\n",
    "    --rg PL:ILLUMINA \\\n",
    "    --rg PU:$PU \\\n",
    "    -x $RNA_REF_INDEX \\\n",
    "    --dta \\\n",
    "    --rna-strandness RF \\\n",
    "    -1 $READ1 \\\n",
    "    -2 $READ2 \\\n",
    "    -S ./${SAMPLE}.sam\n",
    "done < samples.tsv"
   ]
  },
  {
   "cell_type": "code",
   "execution_count": 11,
   "id": "7c4e03cb-3f17-4eba-89b5-1953174d18e2",
   "metadata": {},
   "outputs": [
    {
     "name": "stdout",
     "output_type": "stream",
     "text": [
      "HBR_Rep1.sam  HBR_Rep3.sam  UHR_Rep2.sam  samples.tsv\n",
      "HBR_Rep2.sam  UHR_Rep1.sam  UHR_Rep3.sam\n"
     ]
    }
   ],
   "source": [
    "# Now we can see the output SAM files \n",
    "ls"
   ]
  },
  {
   "cell_type": "markdown",
   "id": "08ea1e00-59c1-4695-afba-f95c1d5ade86",
   "metadata": {},
   "source": [
    "# Step 2 (SAM to BAM Conversion): Convert HISAT2 sam files to bam files and sort by aligned position"
   ]
  },
  {
   "cell_type": "code",
   "execution_count": 12,
   "id": "17f7652c-a9b5-4e52-95f0-4a7af48d9947",
   "metadata": {},
   "outputs": [
    {
     "name": "stdout",
     "output_type": "stream",
     "text": [
      "[bam_sort_core] merging from 0 files and 4 in-memory blocks...\n",
      "[bam_sort_core] merging from 0 files and 4 in-memory blocks...\n",
      "[bam_sort_core] merging from 0 files and 4 in-memory blocks...\n",
      "[bam_sort_core] merging from 0 files and 4 in-memory blocks...\n",
      "[bam_sort_core] merging from 0 files and 4 in-memory blocks...\n",
      "[bam_sort_core] merging from 0 files and 4 in-memory blocks...\n"
     ]
    }
   ],
   "source": [
    "samtools sort -@ 4 -o UHR_Rep1.bam UHR_Rep1.sam # -@ 4 means use 4 threads\n",
    "samtools sort -@ 4 -o UHR_Rep2.bam UHR_Rep2.sam\n",
    "samtools sort -@ 4 -o UHR_Rep3.bam UHR_Rep3.sam\n",
    "samtools sort -@ 4 -o HBR_Rep1.bam HBR_Rep1.sam\n",
    "samtools sort -@ 4 -o HBR_Rep2.bam HBR_Rep2.sam\n",
    "samtools sort -@ 4 -o HBR_Rep3.bam HBR_Rep3.sam"
   ]
  },
  {
   "cell_type": "code",
   "execution_count": 13,
   "id": "74554920-e8cc-42b9-b4ca-0d996c69bb8d",
   "metadata": {},
   "outputs": [
    {
     "name": "stdout",
     "output_type": "stream",
     "text": [
      "HBR_Rep1.bam  HBR_Rep2.sam  UHR_Rep1.bam  UHR_Rep2.sam  samples.tsv\n",
      "HBR_Rep1.sam  HBR_Rep3.bam  UHR_Rep1.sam  UHR_Rep3.bam\n",
      "HBR_Rep2.bam  HBR_Rep3.sam  UHR_Rep2.bam  UHR_Rep3.sam\n"
     ]
    }
   ],
   "source": [
    "# Now we should also see BAM files in the current directory\n",
    "ls"
   ]
  },
  {
   "cell_type": "markdown",
   "id": "8874fc0f-0841-49e2-a085-f0fd0b2f7e90",
   "metadata": {},
   "source": [
    "# Step 3: Merge HISAT2 BAM files\n",
    "Make a single BAM file combining all UHR data and another for all HBR data. Note: This could be done in several ways such as ‘samtools merge’, ‘bamtools merge’, or using **picard-tools** (see below). We chose the third method because it **did the best job at merging the bam header information**."
   ]
  },
  {
   "cell_type": "code",
   "execution_count": 14,
   "id": "f253bf1e-0329-4af4-9344-267eabb0d42e",
   "metadata": {
    "collapsed": true,
    "jupyter": {
     "outputs_hidden": true
    },
    "scrolled": true
   },
   "outputs": [
    {
     "name": "stdout",
     "output_type": "stream",
     "text": [
      "23:40:48.037 INFO  NativeLibraryLoader - Loading libgkl_compression.so from jar:file:/home/ubuntu/bin/picard.jar!/com/intel/gkl/native/libgkl_compression.so\n",
      "[Fri May 02 23:40:48 EDT 2025] MergeSamFiles --INPUT UHR_Rep1.bam --INPUT UHR_Rep2.bam --INPUT UHR_Rep3.bam --OUTPUT UHR.bam --SORT_ORDER coordinate --ASSUME_SORTED false --MERGE_SEQUENCE_DICTIONARIES false --USE_THREADING false --VERBOSITY INFO --QUIET false --VALIDATION_STRINGENCY STRICT --COMPRESSION_LEVEL 5 --MAX_RECORDS_IN_RAM 500000 --CREATE_INDEX false --CREATE_MD5_FILE false --GA4GH_CLIENT_SECRETS client_secrets.json --help false --version false --showHidden false --USE_JDK_DEFLATER false --USE_JDK_INFLATER false\n",
      "[Fri May 02 23:40:48 EDT 2025] Executing as ubuntu@ip-172-31-4-43 on Linux 6.8.0-1017-aws amd64; OpenJDK 64-Bit Server VM 11.0.26+4-post-Ubuntu-1ubuntu122.04; Deflater: Intel; Inflater: Intel; Provider GCS is not available; Picard version: Version:2.26.4\n",
      "INFO\t2025-05-02 23:40:48\tMergeSamFiles\tInput files are in same order as output so sorting to temp directory is not needed.\n",
      "INFO\t2025-05-02 23:40:55\tMergeSamFiles\tProcessed     1,000,000 records.  Elapsed time: 00:00:07s.  Time for last 1,000,000:    7s.  Last read position: ERCC-00130:134\n",
      "INFO\t2025-05-02 23:40:56\tMergeSamFiles\tFinished reading inputs.\n",
      "[Fri May 02 23:40:56 EDT 2025] picard.sam.MergeSamFiles done. Elapsed time: 0.15 minutes.\n",
      "Runtime.totalMemory()=260046848\n",
      "23:40:57.695 INFO  NativeLibraryLoader - Loading libgkl_compression.so from jar:file:/home/ubuntu/bin/picard.jar!/com/intel/gkl/native/libgkl_compression.so\n",
      "[Fri May 02 23:40:57 EDT 2025] MergeSamFiles --INPUT HBR_Rep1.bam --INPUT HBR_Rep2.bam --INPUT HBR_Rep3.bam --OUTPUT HBR.bam --SORT_ORDER coordinate --ASSUME_SORTED false --MERGE_SEQUENCE_DICTIONARIES false --USE_THREADING false --VERBOSITY INFO --QUIET false --VALIDATION_STRINGENCY STRICT --COMPRESSION_LEVEL 5 --MAX_RECORDS_IN_RAM 500000 --CREATE_INDEX false --CREATE_MD5_FILE false --GA4GH_CLIENT_SECRETS client_secrets.json --help false --version false --showHidden false --USE_JDK_DEFLATER false --USE_JDK_INFLATER false\n",
      "[Fri May 02 23:40:57 EDT 2025] Executing as ubuntu@ip-172-31-4-43 on Linux 6.8.0-1017-aws amd64; OpenJDK 64-Bit Server VM 11.0.26+4-post-Ubuntu-1ubuntu122.04; Deflater: Intel; Inflater: Intel; Provider GCS is not available; Picard version: Version:2.26.4\n",
      "INFO\t2025-05-02 23:40:57\tMergeSamFiles\tInput files are in same order as output so sorting to temp directory is not needed.\n",
      "INFO\t2025-05-02 23:41:03\tMergeSamFiles\tFinished reading inputs.\n",
      "[Fri May 02 23:41:03 EDT 2025] picard.sam.MergeSamFiles done. Elapsed time: 0.10 minutes.\n",
      "Runtime.totalMemory()=260046848\n"
     ]
    }
   ],
   "source": [
    "java -Xmx2g -jar $PICARD MergeSamFiles -OUTPUT UHR.bam -INPUT UHR_Rep1.bam -INPUT UHR_Rep2.bam -INPUT UHR_Rep3.bam\n",
    "java -Xmx2g -jar $PICARD MergeSamFiles -OUTPUT HBR.bam -INPUT HBR_Rep1.bam -INPUT HBR_Rep2.bam -INPUT HBR_Rep3.bam"
   ]
  },
  {
   "cell_type": "code",
   "execution_count": 15,
   "id": "1a083027-8489-44a3-89d7-9915d44574da",
   "metadata": {},
   "outputs": [
    {
     "name": "stdout",
     "output_type": "stream",
     "text": [
      "8\n",
      "-rw-rw-r-- 1 ubuntu ubuntu 55533414 May  2 23:41 HBR.bam\n",
      "-rw-rw-r-- 1 ubuntu ubuntu 17080246 May  2 23:37 HBR_Rep1.bam\n",
      "-rw-rw-r-- 1 ubuntu ubuntu 20690572 May  2 23:37 HBR_Rep2.bam\n",
      "-rw-rw-r-- 1 ubuntu ubuntu 18624961 May  2 23:38 HBR_Rep3.bam\n",
      "-rw-rw-r-- 1 ubuntu ubuntu 88676399 May  2 23:40 UHR.bam\n",
      "-rw-rw-r-- 1 ubuntu ubuntu 34947098 May  2 23:37 UHR_Rep1.bam\n",
      "-rw-rw-r-- 1 ubuntu ubuntu 26010264 May  2 23:37 UHR_Rep2.bam\n",
      "-rw-rw-r-- 1 ubuntu ubuntu 28637844 May  2 23:37 UHR_Rep3.bam\n"
     ]
    }
   ],
   "source": [
    "# Now we have 2 additional BAM files, so 8 BAM files in total:\n",
    "ls -l *.bam | wc -l\n",
    "ls -l *.bam"
   ]
  },
  {
   "cell_type": "markdown",
   "id": "c03b31a7-da09-4294-a3ee-7301a2c2c27e",
   "metadata": {},
   "source": [
    "# PRACTICAL EXERCISE 6\n",
    "- Align the reads with HISAT2 aligner. Also practice converting SAM to BAM files, and merging BAM files.\n",
    "- Do this analysis on the ‘practice’ data\n",
    "\n",
    "1. If you sorted the resulting BAM file as we did above, is the result sorted by read name? Or position? ->Ans: by position\n",
    "2. Which columns of the BAM file can be viewed to determine the style of sorting? -> The first, third and fourth columns contain the read name, chromosome, and position. Try samtools view HCC1395_normal.bam | head | cut -f 1,3,4 to confirm the sorting style.\n",
    "3. What command can you use to view only the BAM header? -> Ans: samtools view -H HCC1395_normal.bam"
   ]
  },
  {
   "cell_type": "code",
   "execution_count": 17,
   "id": "9eb56864-d9e6-4e61-8d7b-4129b3e4f403",
   "metadata": {},
   "outputs": [],
   "source": [
    "export RNA_PRACTICE_DATA_DIR=$RNA_HOME/practice/data\n",
    "# RNA_HOME=/home/ubuntu/workspace/rnaseq\n",
    "cd $RNA_HOME/practice/\n",
    "\n",
    "mkdir -p alignments/hisat2\n",
    "cd alignments/hisat2"
   ]
  },
  {
   "cell_type": "code",
   "execution_count": 18,
   "id": "f1d927f3-a01d-40b3-b898-ca823f53f23d",
   "metadata": {
    "collapsed": true,
    "jupyter": {
     "outputs_hidden": true
    },
    "scrolled": true
   },
   "outputs": [
    {
     "name": "stdout",
     "output_type": "stream",
     "text": [
      "331958 reads; of these:\n",
      "  331958 (100.00%) were paired; of these:\n",
      "    81374 (24.51%) aligned concordantly 0 times\n",
      "    245861 (74.06%) aligned concordantly exactly 1 time\n",
      "    4723 (1.42%) aligned concordantly >1 times\n",
      "    ----\n",
      "    81374 pairs aligned concordantly 0 times; of these:\n",
      "      20118 (24.72%) aligned discordantly 1 time\n",
      "    ----\n",
      "    61256 pairs aligned 0 times concordantly or discordantly; of these:\n",
      "      122512 mates make up the pairs; of these:\n",
      "        79756 (65.10%) aligned 0 times\n",
      "        42033 (34.31%) aligned exactly 1 time\n",
      "        723 (0.59%) aligned >1 times\n",
      "87.99% overall alignment rate\n",
      "331958 reads; of these:\n",
      "  331958 (100.00%) were paired; of these:\n",
      "    79808 (24.04%) aligned concordantly 0 times\n",
      "    247478 (74.55%) aligned concordantly exactly 1 time\n",
      "    4672 (1.41%) aligned concordantly >1 times\n",
      "    ----\n",
      "    79808 pairs aligned concordantly 0 times; of these:\n",
      "      20751 (26.00%) aligned discordantly 1 time\n",
      "    ----\n",
      "    59057 pairs aligned 0 times concordantly or discordantly; of these:\n",
      "      118114 mates make up the pairs; of these:\n",
      "        78401 (66.38%) aligned 0 times\n",
      "        39051 (33.06%) aligned exactly 1 time\n",
      "        662 (0.56%) aligned >1 times\n",
      "88.19% overall alignment rate\n",
      "331956 reads; of these:\n",
      "  331956 (100.00%) were paired; of these:\n",
      "    80630 (24.29%) aligned concordantly 0 times\n",
      "    246553 (74.27%) aligned concordantly exactly 1 time\n",
      "    4773 (1.44%) aligned concordantly >1 times\n",
      "    ----\n",
      "    80630 pairs aligned concordantly 0 times; of these:\n",
      "      21173 (26.26%) aligned discordantly 1 time\n",
      "    ----\n",
      "    59457 pairs aligned 0 times concordantly or discordantly; of these:\n",
      "      118914 mates make up the pairs; of these:\n",
      "        79450 (66.81%) aligned 0 times\n",
      "        38766 (32.60%) aligned exactly 1 time\n",
      "        698 (0.59%) aligned >1 times\n",
      "88.03% overall alignment rate\n",
      "390607 reads; of these:\n",
      "  390607 (100.00%) were paired; of these:\n",
      "    95816 (24.53%) aligned concordantly 0 times\n",
      "    289995 (74.24%) aligned concordantly exactly 1 time\n",
      "    4796 (1.23%) aligned concordantly >1 times\n",
      "    ----\n",
      "    95816 pairs aligned concordantly 0 times; of these:\n",
      "      29283 (30.56%) aligned discordantly 1 time\n",
      "    ----\n",
      "    66533 pairs aligned 0 times concordantly or discordantly; of these:\n",
      "      133066 mates make up the pairs; of these:\n",
      "        92856 (69.78%) aligned 0 times\n",
      "        39466 (29.66%) aligned exactly 1 time\n",
      "        744 (0.56%) aligned >1 times\n",
      "88.11% overall alignment rate\n",
      "390607 reads; of these:\n",
      "  390607 (100.00%) were paired; of these:\n",
      "    95635 (24.48%) aligned concordantly 0 times\n",
      "    290294 (74.32%) aligned concordantly exactly 1 time\n",
      "    4678 (1.20%) aligned concordantly >1 times\n",
      "    ----\n",
      "    95635 pairs aligned concordantly 0 times; of these:\n",
      "      30142 (31.52%) aligned discordantly 1 time\n",
      "    ----\n",
      "    65493 pairs aligned 0 times concordantly or discordantly; of these:\n",
      "      130986 mates make up the pairs; of these:\n",
      "        94161 (71.89%) aligned 0 times\n",
      "        36175 (27.62%) aligned exactly 1 time\n",
      "        650 (0.50%) aligned >1 times\n",
      "87.95% overall alignment rate\n",
      "390607 reads; of these:\n",
      "  390607 (100.00%) were paired; of these:\n",
      "    96197 (24.63%) aligned concordantly 0 times\n",
      "    289788 (74.19%) aligned concordantly exactly 1 time\n",
      "    4622 (1.18%) aligned concordantly >1 times\n",
      "    ----\n",
      "    96197 pairs aligned concordantly 0 times; of these:\n",
      "      30390 (31.59%) aligned discordantly 1 time\n",
      "    ----\n",
      "    65807 pairs aligned 0 times concordantly or discordantly; of these:\n",
      "      131614 mates make up the pairs; of these:\n",
      "        94563 (71.85%) aligned 0 times\n",
      "        36381 (27.64%) aligned exactly 1 time\n",
      "        670 (0.51%) aligned >1 times\n",
      "87.90% overall alignment rate\n"
     ]
    }
   ],
   "source": [
    "hisat2 -p 8 --rg-id=HCC1395_normal_rep1 --rg SM:HCC1395_normal_rep1 --rg PL:ILLUMINA -x $RNA_REF_INDEX --dta --rna-strandness RF -1 $RNA_PRACTICE_DATA_DIR/hcc1395_normal_rep1_r1.fastq.gz -2 $RNA_PRACTICE_DATA_DIR/hcc1395_normal_rep1_r2.fastq.gz -S ./HCC1395_normal_rep1.sam\n",
    "hisat2 -p 8 --rg-id=HCC1395_normal_rep2 --rg SM:HCC1395_normal_rep2 --rg PL:ILLUMINA -x $RNA_REF_INDEX --dta --rna-strandness RF -1 $RNA_PRACTICE_DATA_DIR/hcc1395_normal_rep2_r1.fastq.gz -2 $RNA_PRACTICE_DATA_DIR/hcc1395_normal_rep2_r2.fastq.gz -S ./HCC1395_normal_rep2.sam\n",
    "hisat2 -p 8 --rg-id=HCC1395_normal_rep3 --rg SM:HCC1395_normal_rep3 --rg PL:ILLUMINA -x $RNA_REF_INDEX --dta --rna-strandness RF -1 $RNA_PRACTICE_DATA_DIR/hcc1395_normal_rep3_r1.fastq.gz -2 $RNA_PRACTICE_DATA_DIR/hcc1395_normal_rep3_r2.fastq.gz -S ./HCC1395_normal_rep3.sam\n",
    "\n",
    "hisat2 -p 8 --rg-id=HCC1395_tumor_rep1 --rg SM:HCC1395_tumor_rep1 --rg PL:ILLUMINA -x $RNA_REF_INDEX --dta --rna-strandness RF -1 $RNA_PRACTICE_DATA_DIR/hcc1395_tumor_rep1_r1.fastq.gz -2 $RNA_PRACTICE_DATA_DIR/hcc1395_tumor_rep1_r2.fastq.gz -S ./HCC1395_tumor_rep1.sam\n",
    "hisat2 -p 8 --rg-id=HCC1395_tumor_rep2 --rg SM:HCC1395_tumor_rep2 --rg PL:ILLUMINA -x $RNA_REF_INDEX --dta --rna-strandness RF -1 $RNA_PRACTICE_DATA_DIR/hcc1395_tumor_rep2_r1.fastq.gz -2 $RNA_PRACTICE_DATA_DIR/hcc1395_tumor_rep2_r2.fastq.gz -S ./HCC1395_tumor_rep2.sam\n",
    "hisat2 -p 8 --rg-id=HCC1395_tumor_rep3 --rg SM:HCC1395_tumor_rep3 --rg PL:ILLUMINA -x $RNA_REF_INDEX --dta --rna-strandness RF -1 $RNA_PRACTICE_DATA_DIR/hcc1395_tumor_rep3_r1.fastq.gz -2 $RNA_PRACTICE_DATA_DIR/hcc1395_tumor_rep3_r2.fastq.gz -S ./HCC1395_tumor_rep3.sam"
   ]
  },
  {
   "cell_type": "code",
   "execution_count": 19,
   "id": "c8737a1c-047e-4463-8ad9-1ad0aaeca4ea",
   "metadata": {
    "collapsed": true,
    "jupyter": {
     "outputs_hidden": true
    },
    "scrolled": true
   },
   "outputs": [
    {
     "name": "stdout",
     "output_type": "stream",
     "text": [
      "[bam_sort_core] merging from 0 files and 8 in-memory blocks...\n",
      "[bam_sort_core] merging from 0 files and 8 in-memory blocks...\n",
      "[bam_sort_core] merging from 0 files and 8 in-memory blocks...\n",
      "[bam_sort_core] merging from 0 files and 8 in-memory blocks...\n",
      "[bam_sort_core] merging from 0 files and 8 in-memory blocks...\n",
      "[bam_sort_core] merging from 0 files and 8 in-memory blocks...\n"
     ]
    }
   ],
   "source": [
    "samtools sort -@ 8 -o HCC1395_normal_rep1.bam HCC1395_normal_rep1.sam\n",
    "samtools sort -@ 8 -o HCC1395_normal_rep2.bam HCC1395_normal_rep2.sam\n",
    "samtools sort -@ 8 -o HCC1395_normal_rep3.bam HCC1395_normal_rep3.sam\n",
    "samtools sort -@ 8 -o HCC1395_tumor_rep1.bam HCC1395_tumor_rep1.sam\n",
    "samtools sort -@ 8 -o HCC1395_tumor_rep2.bam HCC1395_tumor_rep2.sam\n",
    "samtools sort -@ 8 -o HCC1395_tumor_rep3.bam HCC1395_tumor_rep3.sam"
   ]
  },
  {
   "cell_type": "code",
   "execution_count": 20,
   "id": "d6809045-9994-47a7-befa-8ac18850d810",
   "metadata": {
    "collapsed": true,
    "jupyter": {
     "outputs_hidden": true
    },
    "scrolled": true
   },
   "outputs": [
    {
     "name": "stdout",
     "output_type": "stream",
     "text": [
      "00:13:28.663 INFO  NativeLibraryLoader - Loading libgkl_compression.so from jar:file:/home/ubuntu/bin/picard.jar!/com/intel/gkl/native/libgkl_compression.so\n",
      "[Sat May 03 00:13:28 EDT 2025] MergeSamFiles --INPUT HCC1395_normal_rep1.bam --INPUT HCC1395_normal_rep2.bam --INPUT HCC1395_normal_rep3.bam --OUTPUT HCC1395_normal.bam --SORT_ORDER coordinate --ASSUME_SORTED false --MERGE_SEQUENCE_DICTIONARIES false --USE_THREADING false --VERBOSITY INFO --QUIET false --VALIDATION_STRINGENCY STRICT --COMPRESSION_LEVEL 5 --MAX_RECORDS_IN_RAM 500000 --CREATE_INDEX false --CREATE_MD5_FILE false --GA4GH_CLIENT_SECRETS client_secrets.json --help false --version false --showHidden false --USE_JDK_DEFLATER false --USE_JDK_INFLATER false\n",
      "[Sat May 03 00:13:28 EDT 2025] Executing as ubuntu@ip-172-31-4-43 on Linux 6.8.0-1017-aws amd64; OpenJDK 64-Bit Server VM 11.0.26+4-post-Ubuntu-1ubuntu122.04; Deflater: Intel; Inflater: Intel; Provider GCS is not available; Picard version: Version:2.26.4\n",
      "INFO\t2025-05-03 00:13:28\tMergeSamFiles\tInput files are in same order as output so sorting to temp directory is not needed.\n",
      "INFO\t2025-05-03 00:13:37\tMergeSamFiles\tProcessed     1,000,000 records.  Elapsed time: 00:00:08s.  Time for last 1,000,000:    8s.  Last read position: 22:37,679,607\n",
      "INFO\t2025-05-03 00:13:45\tMergeSamFiles\tProcessed     2,000,000 records.  Elapsed time: 00:00:16s.  Time for last 1,000,000:    8s.  Last read position: */*\n",
      "INFO\t2025-05-03 00:13:45\tMergeSamFiles\tFinished reading inputs.\n",
      "[Sat May 03 00:13:45 EDT 2025] picard.sam.MergeSamFiles done. Elapsed time: 0.29 minutes.\n",
      "Runtime.totalMemory()=260046848\n",
      "00:13:46.610 INFO  NativeLibraryLoader - Loading libgkl_compression.so from jar:file:/home/ubuntu/bin/picard.jar!/com/intel/gkl/native/libgkl_compression.so\n",
      "[Sat May 03 00:13:46 EDT 2025] MergeSamFiles --INPUT HCC1395_tumor_rep1.bam --INPUT HCC1395_tumor_rep2.bam --INPUT HCC1395_tumor_rep3.bam --OUTPUT HCC1395_tumor.bam --SORT_ORDER coordinate --ASSUME_SORTED false --MERGE_SEQUENCE_DICTIONARIES false --USE_THREADING false --VERBOSITY INFO --QUIET false --VALIDATION_STRINGENCY STRICT --COMPRESSION_LEVEL 5 --MAX_RECORDS_IN_RAM 500000 --CREATE_INDEX false --CREATE_MD5_FILE false --GA4GH_CLIENT_SECRETS client_secrets.json --help false --version false --showHidden false --USE_JDK_DEFLATER false --USE_JDK_INFLATER false\n",
      "[Sat May 03 00:13:46 EDT 2025] Executing as ubuntu@ip-172-31-4-43 on Linux 6.8.0-1017-aws amd64; OpenJDK 64-Bit Server VM 11.0.26+4-post-Ubuntu-1ubuntu122.04; Deflater: Intel; Inflater: Intel; Provider GCS is not available; Picard version: Version:2.26.4\n",
      "INFO\t2025-05-03 00:13:46\tMergeSamFiles\tInput files are in same order as output so sorting to temp directory is not needed.\n",
      "INFO\t2025-05-03 00:13:55\tMergeSamFiles\tProcessed     1,000,000 records.  Elapsed time: 00:00:08s.  Time for last 1,000,000:    8s.  Last read position: 22:36,519,433\n",
      "INFO\t2025-05-03 00:14:03\tMergeSamFiles\tProcessed     2,000,000 records.  Elapsed time: 00:00:16s.  Time for last 1,000,000:    7s.  Last read position: 22:46,347,865\n",
      "INFO\t2025-05-03 00:14:06\tMergeSamFiles\tFinished reading inputs.\n",
      "[Sat May 03 00:14:06 EDT 2025] picard.sam.MergeSamFiles done. Elapsed time: 0.33 minutes.\n",
      "Runtime.totalMemory()=260046848\n"
     ]
    }
   ],
   "source": [
    "java -Xmx2g -jar $PICARD MergeSamFiles -OUTPUT HCC1395_normal.bam -INPUT HCC1395_normal_rep1.bam -INPUT HCC1395_normal_rep2.bam -INPUT HCC1395_normal_rep3.bam\n",
    "java -Xmx2g -jar $PICARD MergeSamFiles -OUTPUT HCC1395_tumor.bam -INPUT HCC1395_tumor_rep1.bam -INPUT HCC1395_tumor_rep2.bam -INPUT HCC1395_tumor_rep3.bam"
   ]
  },
  {
   "cell_type": "code",
   "execution_count": 21,
   "id": "12f9298d-f3bf-4b29-a939-dab72d615cfb",
   "metadata": {},
   "outputs": [
    {
     "name": "stdout",
     "output_type": "stream",
     "text": [
      "HCC1395_normal.bam       HCC1395_normal_rep3.bam  HCC1395_tumor_rep2.bam\n",
      "HCC1395_normal_rep1.bam  HCC1395_normal_rep3.sam  HCC1395_tumor_rep2.sam\n",
      "HCC1395_normal_rep1.sam  HCC1395_tumor.bam        HCC1395_tumor_rep3.bam\n",
      "HCC1395_normal_rep2.bam  HCC1395_tumor_rep1.bam   HCC1395_tumor_rep3.sam\n",
      "HCC1395_normal_rep2.sam  HCC1395_tumor_rep1.sam\n"
     ]
    }
   ],
   "source": [
    "ls"
   ]
  },
  {
   "cell_type": "code",
   "execution_count": 22,
   "id": "8589be1c-f9cc-4377-80c5-cdab35469a3d",
   "metadata": {
    "collapsed": true,
    "jupyter": {
     "outputs_hidden": true
    },
    "scrolled": true
   },
   "outputs": [
    {
     "name": "stdout",
     "output_type": "stream",
     "text": [
      "@HD\tVN:1.6\tGO:none\tSO:coordinate\n",
      "@SQ\tSN:22\tLN:50818468\n",
      "@SQ\tSN:ERCC-00002\tLN:1061\n",
      "@SQ\tSN:ERCC-00003\tLN:1023\n",
      "@SQ\tSN:ERCC-00004\tLN:523\n",
      "@SQ\tSN:ERCC-00009\tLN:984\n",
      "@SQ\tSN:ERCC-00012\tLN:994\n",
      "@SQ\tSN:ERCC-00013\tLN:808\n",
      "@SQ\tSN:ERCC-00014\tLN:1957\n",
      "@SQ\tSN:ERCC-00016\tLN:844\n",
      "@SQ\tSN:ERCC-00017\tLN:1136\n",
      "@SQ\tSN:ERCC-00019\tLN:644\n",
      "@SQ\tSN:ERCC-00022\tLN:751\n",
      "@SQ\tSN:ERCC-00024\tLN:536\n",
      "@SQ\tSN:ERCC-00025\tLN:1994\n",
      "@SQ\tSN:ERCC-00028\tLN:1130\n",
      "@SQ\tSN:ERCC-00031\tLN:1138\n",
      "@SQ\tSN:ERCC-00033\tLN:2022\n",
      "@SQ\tSN:ERCC-00034\tLN:1019\n",
      "@SQ\tSN:ERCC-00035\tLN:1130\n",
      "@SQ\tSN:ERCC-00039\tLN:740\n",
      "@SQ\tSN:ERCC-00040\tLN:744\n",
      "@SQ\tSN:ERCC-00041\tLN:1122\n",
      "@SQ\tSN:ERCC-00042\tLN:1023\n",
      "@SQ\tSN:ERCC-00043\tLN:1023\n",
      "@SQ\tSN:ERCC-00044\tLN:1156\n",
      "@SQ\tSN:ERCC-00046\tLN:522\n",
      "@SQ\tSN:ERCC-00048\tLN:992\n",
      "@SQ\tSN:ERCC-00051\tLN:274\n",
      "@SQ\tSN:ERCC-00053\tLN:1023\n",
      "@SQ\tSN:ERCC-00054\tLN:274\n",
      "@SQ\tSN:ERCC-00057\tLN:1021\n",
      "@SQ\tSN:ERCC-00058\tLN:1136\n",
      "@SQ\tSN:ERCC-00059\tLN:525\n",
      "@SQ\tSN:ERCC-00060\tLN:523\n",
      "@SQ\tSN:ERCC-00061\tLN:1136\n",
      "@SQ\tSN:ERCC-00062\tLN:1023\n",
      "@SQ\tSN:ERCC-00067\tLN:644\n",
      "@SQ\tSN:ERCC-00069\tLN:1137\n",
      "@SQ\tSN:ERCC-00071\tLN:642\n",
      "@SQ\tSN:ERCC-00073\tLN:603\n",
      "@SQ\tSN:ERCC-00074\tLN:522\n",
      "@SQ\tSN:ERCC-00075\tLN:1023\n",
      "@SQ\tSN:ERCC-00076\tLN:642\n",
      "@SQ\tSN:ERCC-00077\tLN:273\n",
      "@SQ\tSN:ERCC-00078\tLN:993\n",
      "@SQ\tSN:ERCC-00079\tLN:644\n",
      "@SQ\tSN:ERCC-00081\tLN:534\n",
      "@SQ\tSN:ERCC-00083\tLN:1022\n",
      "@SQ\tSN:ERCC-00084\tLN:994\n",
      "@SQ\tSN:ERCC-00085\tLN:844\n",
      "@SQ\tSN:ERCC-00086\tLN:1020\n",
      "@SQ\tSN:ERCC-00092\tLN:1124\n",
      "@SQ\tSN:ERCC-00095\tLN:521\n",
      "@SQ\tSN:ERCC-00096\tLN:1107\n",
      "@SQ\tSN:ERCC-00097\tLN:523\n",
      "@SQ\tSN:ERCC-00098\tLN:1143\n",
      "@SQ\tSN:ERCC-00099\tLN:1350\n",
      "@SQ\tSN:ERCC-00104\tLN:2022\n",
      "@SQ\tSN:ERCC-00108\tLN:1022\n",
      "@SQ\tSN:ERCC-00109\tLN:536\n",
      "@SQ\tSN:ERCC-00111\tLN:994\n",
      "@SQ\tSN:ERCC-00112\tLN:1136\n",
      "@SQ\tSN:ERCC-00113\tLN:840\n",
      "@SQ\tSN:ERCC-00116\tLN:1991\n",
      "@SQ\tSN:ERCC-00117\tLN:1136\n",
      "@SQ\tSN:ERCC-00120\tLN:536\n",
      "@SQ\tSN:ERCC-00123\tLN:1022\n",
      "@SQ\tSN:ERCC-00126\tLN:1118\n",
      "@SQ\tSN:ERCC-00130\tLN:1059\n",
      "@SQ\tSN:ERCC-00131\tLN:771\n",
      "@SQ\tSN:ERCC-00134\tLN:274\n",
      "@SQ\tSN:ERCC-00136\tLN:1033\n",
      "@SQ\tSN:ERCC-00137\tLN:537\n",
      "@SQ\tSN:ERCC-00138\tLN:1024\n",
      "@SQ\tSN:ERCC-00142\tLN:493\n",
      "@SQ\tSN:ERCC-00143\tLN:784\n",
      "@SQ\tSN:ERCC-00144\tLN:538\n",
      "@SQ\tSN:ERCC-00145\tLN:1042\n",
      "@SQ\tSN:ERCC-00147\tLN:1023\n",
      "@SQ\tSN:ERCC-00148\tLN:494\n",
      "@SQ\tSN:ERCC-00150\tLN:743\n",
      "@SQ\tSN:ERCC-00154\tLN:537\n",
      "@SQ\tSN:ERCC-00156\tLN:494\n",
      "@SQ\tSN:ERCC-00157\tLN:1019\n",
      "@SQ\tSN:ERCC-00158\tLN:1027\n",
      "@SQ\tSN:ERCC-00160\tLN:743\n",
      "@SQ\tSN:ERCC-00162\tLN:523\n",
      "@SQ\tSN:ERCC-00163\tLN:543\n",
      "@SQ\tSN:ERCC-00164\tLN:1022\n",
      "@SQ\tSN:ERCC-00165\tLN:872\n",
      "@SQ\tSN:ERCC-00168\tLN:1024\n",
      "@SQ\tSN:ERCC-00170\tLN:1023\n",
      "@SQ\tSN:ERCC-00171\tLN:505\n",
      "@RG\tID:HCC1395_normal_rep1\tSM:HCC1395_normal_rep1\tPL:ILLUMINA\n",
      "@RG\tID:HCC1395_normal_rep2\tSM:HCC1395_normal_rep2\tPL:ILLUMINA\n",
      "@RG\tID:HCC1395_normal_rep3\tSM:HCC1395_normal_rep3\tPL:ILLUMINA\n",
      "@PG\tID:hisat2\tPN:hisat2\tVN:2.2.1\tCL:\"/home/ubuntu/bin/hisat2-2.2.1/hisat2-align-s --wrapper basic-0 -p 8 --rg-id=HCC1395_normal_rep1 --rg SM:HCC1395_normal_rep1 --rg PL:ILLUMINA -x /home/ubuntu/workspace/rnaseq/refs/chr22_with_ERCC92 --dta --rna-strandness RF -S ./HCC1395_normal_rep1.sam --read-lengths 151 -1 /tmp/37369.inpipe1 -2 /tmp/37369.inpipe2\"\n",
      "@PG\tID:hisat2.1\tPN:hisat2\tVN:2.2.1\tCL:\"/home/ubuntu/bin/hisat2-2.2.1/hisat2-align-s --wrapper basic-0 -p 8 --rg-id=HCC1395_normal_rep2 --rg SM:HCC1395_normal_rep2 --rg PL:ILLUMINA -x /home/ubuntu/workspace/rnaseq/refs/chr22_with_ERCC92 --dta --rna-strandness RF -S ./HCC1395_normal_rep2.sam --read-lengths 151 -1 /tmp/37390.inpipe1 -2 /tmp/37390.inpipe2\"\n",
      "@PG\tID:hisat2.2\tPN:hisat2\tVN:2.2.1\tCL:\"/home/ubuntu/bin/hisat2-2.2.1/hisat2-align-s --wrapper basic-0 -p 8 --rg-id=HCC1395_normal_rep3 --rg SM:HCC1395_normal_rep3 --rg PL:ILLUMINA -x /home/ubuntu/workspace/rnaseq/refs/chr22_with_ERCC92 --dta --rna-strandness RF -S ./HCC1395_normal_rep3.sam --read-lengths 151 -1 /tmp/37412.inpipe1 -2 /tmp/37412.inpipe2\"\n",
      "@PG\tID:samtools\tPN:samtools\tPP:hisat2\tVN:1.18\tCL:samtools sort -@ 8 -o HCC1395_normal_rep1.bam HCC1395_normal_rep1.sam\n",
      "@PG\tID:samtools.4\tPN:samtools\tPP:hisat2.1\tVN:1.18\tCL:samtools sort -@ 8 -o HCC1395_normal_rep2.bam HCC1395_normal_rep2.sam\n",
      "@PG\tID:samtools.5\tPN:samtools\tPP:hisat2.2\tVN:1.18\tCL:samtools sort -@ 8 -o HCC1395_normal_rep3.bam HCC1395_normal_rep3.sam\n",
      "@PG\tID:samtools.1\tPN:samtools\tPP:samtools\tVN:1.18\tCL:samtools view -H HCC1395_normal.bam\n",
      "@PG\tID:samtools.2\tPN:samtools\tPP:samtools.4\tVN:1.18\tCL:samtools view -H HCC1395_normal.bam\n",
      "@PG\tID:samtools.3\tPN:samtools\tPP:samtools.5\tVN:1.18\tCL:samtools view -H HCC1395_normal.bam\n"
     ]
    }
   ],
   "source": [
    "samtools view -H HCC1395_normal.bam"
   ]
  },
  {
   "cell_type": "code",
   "execution_count": 23,
   "id": "f5166eb9-37db-404e-ac72-e673b0d05c4c",
   "metadata": {},
   "outputs": [
    {
     "name": "stdout",
     "output_type": "stream",
     "text": [
      "K00193:38:H3MYFBBXX:4:1218:30962:22325\t22\t10564457\n",
      "K00193:38:H3MYFBBXX:4:1218:30962:22325\t22\t10564457\n",
      "K00193:38:H3MYFBBXX:4:1203:22579:10757\t22\t10617977\n",
      "K00193:38:H3MYFBBXX:5:1214:3568:13939\t22\t10617977\n",
      "K00193:38:H3MYFBBXX:4:2205:11383:15873\t22\t10643913\n",
      "K00193:38:H3MYFBBXX:4:2215:4400:39009\t22\t10643915\n",
      "K00193:38:H3MYFBBXX:4:2215:4400:39009\t22\t10643927\n",
      "K00193:38:H3MYFBBXX:4:2211:19067:14027\t22\t10673954\n",
      "K00193:38:H3MYFBBXX:4:2211:19067:14027\t22\t10673954\n",
      "K00193:38:H3MYFBBXX:4:1227:20061:25384\t22\t10684438\n"
     ]
    }
   ],
   "source": [
    "samtools view HCC1395_normal.bam | head | cut -f 1,3,4"
   ]
  },
  {
   "cell_type": "code",
   "execution_count": 26,
   "id": "ecbe68ae-ab19-420b-b5e5-d6fb1c511e01",
   "metadata": {},
   "outputs": [
    {
     "name": "stdout",
     "output_type": "stream",
     "text": [
      "QuerryNAME\tFLAG\tRefNAME\tPOS\tMAPQ\tCIGAR\tRNEXT\tPNEXT\tTLEN\tSEQ\tQUAL\n",
      "K00193:38:H3MYFBBXX:4:1218:30962:22325\t133\t22\t10564457\t0\t*\t=\t10564457\t0\tCATGCACATGTTTATTTTTTGAGCACCTATGTTTTGTAAGATTAACAGCTGACTTAAGAGAAAAAATGGAAGGAAAGAGGCAGTAGAATAATATATTCAAAAGATGCAAAGGAAAAAAAAACTTTAGGCCACAAATTACTTATTCAGTAAT\t<AFFFKKKKKKKKKKKKKKKAKAFKKKKKK,FKKKAAFK,FKKKKFKAFKFF,FFKKAKFFKK,FFA7FFKA,,7F,,<,,A,<FFFFKKKKFFFKKAFAAAA7A<,<,A,,<FKF7AFAF,<,,,,,,,7,,<AFF,,,7AA,,7,,<A,\tYT:Z:UP\tRG:Z:HCC1395_normal_rep1\n"
     ]
    }
   ],
   "source": [
    "# To print Field Descriptions and view the first alignment in BAM file\n",
    "echo -e \"QuerryNAME\\tFLAG\\tRefNAME\\tPOS\\tMAPQ\\tCIGAR\\tRNEXT\\tPNEXT\\tTLEN\\tSEQ\\tQUAL\"\n",
    "samtools view HCC1395_normal.bam | head -n 1"
   ]
  },
  {
   "cell_type": "markdown",
   "id": "e60cf619-3a53-42b7-9513-e3685ee3ad26",
   "metadata": {},
   "source": [
    "| Field Name   | Value from your line                     | Description                                                          |\n",
    "| ------------ | ---------------------------------------- | -------------------------------------------------------------------- |\n",
    "| **QNAME**    | `K00193:38:H3MYFBBXX:4:1218:30962:22325` | Query template/pair name (read ID)                                   |\n",
    "| **FLAG**     | `133`                                    | Bitwise flag describing the read (e.g. paired, reverse strand, etc.) |\n",
    "| **RNAME**    | `22`                                     | Reference sequence name (chromosome 22)                              |\n",
    "| **POS**      | `10564457`                               | 1-based leftmost mapping position                                    |\n",
    "| **MAPQ**     | `0`                                      | Mapping quality (0 means unmapped or low confidence)                 |\n",
    "| **CIGAR**    | `*`                                      | No alignment (i.e. unmapped or skipped)                              |\n",
    "| **RNEXT**    | `=`                                      | Mate reference name (\"=\" means same as RNAME)                        |\n",
    "| **PNEXT**    | `10564457`                               | Position of the mate read                                            |\n",
    "| **TLEN**     | `0`                                      | Template length                                                      |\n",
    "| **SEQ**      | `CATGCACATGTT...`                        | The read sequence                                                    |\n",
    "| **QUAL**     | `<AFFFKKKK...`                           | ASCII-encoded base quality values                                    |\n",
    "| **Optional** | `YT:Z:UP` and `RG:Z:HCC1395_normal_rep1` | Optional fields (e.g. `Read Group`)                                  |"
   ]
  },
  {
   "cell_type": "code",
   "execution_count": null,
   "id": "68b52ddd-4cfd-48a4-bc9a-e4b3441c6951",
   "metadata": {},
   "outputs": [],
   "source": []
  }
 ],
 "metadata": {
  "kernelspec": {
   "display_name": "Bash",
   "language": "bash",
   "name": "bash"
  },
  "language_info": {
   "codemirror_mode": "shell",
   "file_extension": ".sh",
   "mimetype": "text/x-sh",
   "name": "bash"
  }
 },
 "nbformat": 4,
 "nbformat_minor": 5
}
